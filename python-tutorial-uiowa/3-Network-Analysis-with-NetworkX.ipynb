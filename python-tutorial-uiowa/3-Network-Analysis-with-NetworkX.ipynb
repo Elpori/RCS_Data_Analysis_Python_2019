{
 "cells": [
  {
   "cell_type": "markdown",
   "metadata": {},
   "source": [
    "ISRC Python Workshop: Network analysis\n",
    "\n",
    "__Network Analysis with NetworkX__"
   ]
  },
  {
   "cell_type": "markdown",
   "metadata": {},
   "source": [
    "---"
   ]
  },
  {
   "cell_type": "markdown",
   "metadata": {},
   "source": [
    "@author: Zhiya Zuo\n",
    "\n",
    "@email: zhiya-zuo@uiowa.edu"
   ]
  },
  {
   "cell_type": "markdown",
   "metadata": {},
   "source": [
    "---"
   ]
  },
  {
   "cell_type": "code",
   "execution_count": 29,
   "metadata": {
    "ExecuteTime": {
     "end_time": "2017-11-15T18:02:06.589599Z",
     "start_time": "2017-11-15T18:02:06.245458Z"
    }
   },
   "outputs": [],
   "source": [
    "import numpy as np\n",
    "import pandas as pd"
   ]
  },
  {
   "cell_type": "markdown",
   "metadata": {},
   "source": [
    "---"
   ]
  },
  {
   "cell_type": "markdown",
   "metadata": {},
   "source": [
    "#### Introduction"
   ]
  },
  {
   "cell_type": "markdown",
   "metadata": {},
   "source": [
    "Network analysis, though well developed through the area of physics, has been deep in various research fields inclduing economics, finance, computer science, biology, etc. In this workshop, we will cover basics to <a href='https://networkx.github.io/documentation/stable/', target='_blank'>___NetworkX___</a>."
   ]
  },
  {
   "cell_type": "markdown",
   "metadata": {},
   "source": [
    "Before that, I here introduce two other popular Python packages: <a href='http://igraph.org/python/doc/tutorial/tutorial.html', target='_blank'>___iGraph___</a> and <a href='https://graph-tool.skewed.de/static/doc/index.html', target='_blank'>___graph-tool___</a>. Note that the installation of the latter may be painful but has trememdous speedup compared to the other two. (On Mac, you can easily use <a href='https://brew.sh/' target='_blank'>Homebrew</a> to isntall it!)"
   ]
  },
  {
   "cell_type": "markdown",
   "metadata": {},
   "source": [
    "<div class=\"mark\">\n",
    "Note that in the following, I will use the term __graph__ and __network__ interchangeably.</div><i class=\"fa fa-lightbulb-o \"></i>"
   ]
  },
  {
   "cell_type": "markdown",
   "metadata": {},
   "source": [
    "##### Sample graph data"
   ]
  },
  {
   "cell_type": "markdown",
   "metadata": {},
   "source": [
    "___NetworkX___ provides empirical network data for you to play with. We will be using <a href='https://en.wikipedia.org/wiki/Zachary%27s_karate_club' target='_blank'>Zachary's karate club</a> as an example here. \n",
    "\n",
    "_Note that if you have not installed __NetworkX__ yet, please run `pip install networkx` in your terminal to have it installed first_"
   ]
  },
  {
   "cell_type": "code",
   "execution_count": 1,
   "metadata": {
    "ExecuteTime": {
     "end_time": "2017-11-15T17:42:03.342315Z",
     "start_time": "2017-11-15T17:42:02.533972Z"
    }
   },
   "outputs": [],
   "source": [
    "# first import the library\n",
    "import networkx as nx"
   ]
  },
  {
   "cell_type": "code",
   "execution_count": 2,
   "metadata": {
    "ExecuteTime": {
     "end_time": "2017-11-15T17:42:03.352818Z",
     "start_time": "2017-11-15T17:42:03.344649Z"
    }
   },
   "outputs": [
    {
     "data": {
      "text/plain": [
       "'2.0'"
      ]
     },
     "execution_count": 2,
     "metadata": {},
     "output_type": "execute_result"
    }
   ],
   "source": [
    "# check the version of NetworkX\n",
    "nx.__version__"
   ]
  },
  {
   "cell_type": "code",
   "execution_count": 3,
   "metadata": {
    "ExecuteTime": {
     "end_time": "2017-11-15T17:43:23.125791Z",
     "start_time": "2017-11-15T17:43:23.120687Z"
    }
   },
   "outputs": [],
   "source": [
    "G = nx.karate_club_graph()"
   ]
  },
  {
   "cell_type": "markdown",
   "metadata": {},
   "source": [
    "`nx.info(G)` returns the basic description of the graph."
   ]
  },
  {
   "cell_type": "code",
   "execution_count": 4,
   "metadata": {
    "ExecuteTime": {
     "end_time": "2017-11-15T17:43:32.469924Z",
     "start_time": "2017-11-15T17:43:32.465136Z"
    }
   },
   "outputs": [
    {
     "name": "stdout",
     "output_type": "stream",
     "text": [
      "Name: Zachary's Karate Club\n",
      "Type: Graph\n",
      "Number of nodes: 34\n",
      "Number of edges: 78\n",
      "Average degree:   4.5882\n"
     ]
    }
   ],
   "source": [
    "print nx.info(G)"
   ]
  },
  {
   "cell_type": "markdown",
   "metadata": {},
   "source": [
    "We can save the graph as a <a href='https://en.wikipedia.org/wiki/Graph_Modelling_Language'>___GML___</a> file"
   ]
  },
  {
   "cell_type": "code",
   "execution_count": 6,
   "metadata": {
    "ExecuteTime": {
     "end_time": "2017-11-12T23:53:42.508826Z",
     "start_time": "2017-11-12T23:53:42.501166Z"
    }
   },
   "outputs": [],
   "source": [
    "nx.write_gml(G, 'sample-data/karate.gml')"
   ]
  },
  {
   "cell_type": "markdown",
   "metadata": {},
   "source": [
    "##### Comparison of different libraries"
   ]
  },
  {
   "cell_type": "markdown",
   "metadata": {},
   "source": [
    "###### NetworkX"
   ]
  },
  {
   "cell_type": "code",
   "execution_count": 5,
   "metadata": {
    "ExecuteTime": {
     "end_time": "2017-11-15T17:45:40.971783Z",
     "start_time": "2017-11-15T17:45:40.949785Z"
    }
   },
   "outputs": [
    {
     "name": "stdout",
     "output_type": "stream",
     "text": [
      "Name: Zachary's Karate Club\n",
      "Type: Graph\n",
      "Number of nodes: 34\n",
      "Number of edges: 78\n",
      "Average degree:   4.5882\n"
     ]
    }
   ],
   "source": [
    "G_nx = nx.read_gml('sample-data/karate.gml')\n",
    "print nx.info(G_nx)"
   ]
  },
  {
   "cell_type": "code",
   "execution_count": 6,
   "metadata": {
    "ExecuteTime": {
     "end_time": "2017-11-15T17:47:07.664925Z",
     "start_time": "2017-11-15T17:47:05.021488Z"
    }
   },
   "outputs": [
    {
     "name": "stdout",
     "output_type": "stream",
     "text": [
      "100 loops, best of 3: 6.06 ms per loop\n"
     ]
    }
   ],
   "source": [
    "%timeit nx.closeness_centrality(G_nx)"
   ]
  },
  {
   "cell_type": "markdown",
   "metadata": {},
   "source": [
    "###### iGraph"
   ]
  },
  {
   "cell_type": "code",
   "execution_count": 7,
   "metadata": {
    "ExecuteTime": {
     "end_time": "2017-11-15T17:47:34.426569Z",
     "start_time": "2017-11-15T17:47:34.308851Z"
    }
   },
   "outputs": [],
   "source": [
    "import igraph as ig"
   ]
  },
  {
   "cell_type": "code",
   "execution_count": 8,
   "metadata": {
    "ExecuteTime": {
     "end_time": "2017-11-15T17:47:55.616776Z",
     "start_time": "2017-11-15T17:47:55.607680Z"
    }
   },
   "outputs": [],
   "source": [
    "G_ig = ig.load('sample-data/karate.gml')"
   ]
  },
  {
   "cell_type": "code",
   "execution_count": 9,
   "metadata": {
    "ExecuteTime": {
     "end_time": "2017-11-15T17:47:56.739988Z",
     "start_time": "2017-11-15T17:47:56.735647Z"
    }
   },
   "outputs": [
    {
     "name": "stdout",
     "output_type": "stream",
     "text": [
      "IGRAPH U--- 34 78 -- \n",
      "+ attr: club (v), id (v), label (v)\n"
     ]
    }
   ],
   "source": [
    "print G_ig.summary()"
   ]
  },
  {
   "cell_type": "code",
   "execution_count": 10,
   "metadata": {
    "ExecuteTime": {
     "end_time": "2017-11-15T17:48:38.417532Z",
     "start_time": "2017-11-15T17:48:34.107707Z"
    }
   },
   "outputs": [
    {
     "name": "stdout",
     "output_type": "stream",
     "text": [
      "The slowest run took 20.98 times longer than the fastest. This could mean that an intermediate result is being cached.\n",
      "10000 loops, best of 3: 104 µs per loop\n"
     ]
    }
   ],
   "source": [
    "%timeit G_ig.closeness()"
   ]
  },
  {
   "cell_type": "markdown",
   "metadata": {},
   "source": [
    "###### graph-tool"
   ]
  },
  {
   "cell_type": "code",
   "execution_count": 11,
   "metadata": {
    "ExecuteTime": {
     "end_time": "2017-11-15T17:49:11.636729Z",
     "start_time": "2017-11-15T17:49:10.464142Z"
    }
   },
   "outputs": [],
   "source": [
    "import graph_tool.all as gt"
   ]
  },
  {
   "cell_type": "code",
   "execution_count": 12,
   "metadata": {
    "ExecuteTime": {
     "end_time": "2017-11-15T17:49:12.180930Z",
     "start_time": "2017-11-15T17:49:12.162773Z"
    }
   },
   "outputs": [],
   "source": [
    "G_gt = gt.load_graph('sample-data/karate.gml')"
   ]
  },
  {
   "cell_type": "code",
   "execution_count": 13,
   "metadata": {
    "ExecuteTime": {
     "end_time": "2017-11-15T17:49:13.539986Z",
     "start_time": "2017-11-15T17:49:13.536022Z"
    }
   },
   "outputs": [
    {
     "name": "stdout",
     "output_type": "stream",
     "text": [
      "<Graph object, undirected, with 34 vertices and 78 edges at 0x120141710>\n"
     ]
    }
   ],
   "source": [
    "print G_gt"
   ]
  },
  {
   "cell_type": "code",
   "execution_count": 14,
   "metadata": {
    "ExecuteTime": {
     "end_time": "2017-11-15T17:49:32.290953Z",
     "start_time": "2017-11-15T17:49:29.406607Z"
    }
   },
   "outputs": [
    {
     "name": "stdout",
     "output_type": "stream",
     "text": [
      "The slowest run took 10.06 times longer than the fastest. This could mean that an intermediate result is being cached.\n",
      "1000 loops, best of 3: 697 µs per loop\n"
     ]
    }
   ],
   "source": [
    "%timeit gt.closeness(G_gt)"
   ]
  },
  {
   "cell_type": "markdown",
   "metadata": {},
   "source": [
    "So we can see ___NetworkX___ is not very fast. However, it is noteworthy that the its well-written documents, ease of use, and all other features make it a very popular Python package for network analysis"
   ]
  },
  {
   "cell_type": "markdown",
   "metadata": {},
   "source": [
    "---"
   ]
  },
  {
   "cell_type": "markdown",
   "metadata": {},
   "source": [
    "#### Creating a network"
   ]
  },
  {
   "cell_type": "markdown",
   "metadata": {},
   "source": [
    "##### Get a network from scratch"
   ]
  },
  {
   "cell_type": "markdown",
   "metadata": {},
   "source": [
    "Let's start with a brute-force approach of building a network. This will give an emptive graph:"
   ]
  },
  {
   "cell_type": "code",
   "execution_count": 15,
   "metadata": {
    "ExecuteTime": {
     "end_time": "2017-11-15T17:54:11.828948Z",
     "start_time": "2017-11-15T17:54:11.824730Z"
    }
   },
   "outputs": [
    {
     "name": "stdout",
     "output_type": "stream",
     "text": [
      "Name: \n",
      "Type: Graph\n",
      "Number of nodes: 0\n",
      "Number of edges: 0\n",
      "\n"
     ]
    }
   ],
   "source": [
    "G = nx.Graph()\n",
    "print nx.info(G)"
   ]
  },
  {
   "cell_type": "markdown",
   "metadata": {},
   "source": [
    "We can then start adding nodes/edges. \n",
    "\n",
    "_In some other areas, nodes are also called vertices; edges are called links._"
   ]
  },
  {
   "cell_type": "code",
   "execution_count": 16,
   "metadata": {
    "ExecuteTime": {
     "end_time": "2017-11-15T17:55:03.848863Z",
     "start_time": "2017-11-15T17:55:03.843917Z"
    }
   },
   "outputs": [
    {
     "name": "stdout",
     "output_type": "stream",
     "text": [
      "1\n",
      "4\n"
     ]
    }
   ],
   "source": [
    "G.add_node(1) # add one node at a time\n",
    "print G.number_of_nodes()\n",
    "G.add_nodes_from(range(2,5)) # add a list of nodes at once\n",
    "print G.number_of_nodes()"
   ]
  },
  {
   "cell_type": "markdown",
   "metadata": {},
   "source": [
    "While we have something in our network now, we do not have any connections between them. After all, connectivity is the most interesting thing in networks!"
   ]
  },
  {
   "cell_type": "code",
   "execution_count": 18,
   "metadata": {
    "ExecuteTime": {
     "end_time": "2017-11-15T17:56:17.373375Z",
     "start_time": "2017-11-15T17:56:17.367412Z"
    }
   },
   "outputs": [
    {
     "name": "stdout",
     "output_type": "stream",
     "text": [
      "1\n",
      "3\n"
     ]
    }
   ],
   "source": [
    "G.add_edge(1, 2) # add one edge at a time\n",
    "print G.number_of_edges()\n",
    "G.add_edges_from([(2, 3), (1, 4)]) # add a list of edges at once\n",
    "print G.number_of_edges()"
   ]
  },
  {
   "cell_type": "code",
   "execution_count": 19,
   "metadata": {
    "ExecuteTime": {
     "end_time": "2017-11-15T17:56:21.877158Z",
     "start_time": "2017-11-15T17:56:21.873027Z"
    }
   },
   "outputs": [
    {
     "name": "stdout",
     "output_type": "stream",
     "text": [
      "Name: \n",
      "Type: Graph\n",
      "Number of nodes: 4\n",
      "Number of edges: 3\n",
      "Average degree:   1.5000\n"
     ]
    }
   ],
   "source": [
    "print nx.info(G)"
   ]
  },
  {
   "cell_type": "markdown",
   "metadata": {},
   "source": [
    "We can now inspect what we have in our first network."
   ]
  },
  {
   "cell_type": "code",
   "execution_count": 20,
   "metadata": {
    "ExecuteTime": {
     "end_time": "2017-11-15T17:57:09.086370Z",
     "start_time": "2017-11-15T17:57:09.081067Z"
    }
   },
   "outputs": [
    {
     "data": {
      "text/plain": [
       "NodeView((1, 2, 3, 4))"
      ]
     },
     "execution_count": 20,
     "metadata": {},
     "output_type": "execute_result"
    }
   ],
   "source": [
    "G.nodes()"
   ]
  },
  {
   "cell_type": "code",
   "execution_count": 21,
   "metadata": {
    "ExecuteTime": {
     "end_time": "2017-11-15T17:57:10.536339Z",
     "start_time": "2017-11-15T17:57:10.530886Z"
    }
   },
   "outputs": [
    {
     "data": {
      "text/plain": [
       "EdgeView([(1, 2), (1, 4), (2, 3)])"
      ]
     },
     "execution_count": 21,
     "metadata": {},
     "output_type": "execute_result"
    }
   ],
   "source": [
    "G.edges()"
   ]
  },
  {
   "cell_type": "markdown",
   "metadata": {},
   "source": [
    "Degree is the number of connections a node has."
   ]
  },
  {
   "cell_type": "code",
   "execution_count": 22,
   "metadata": {
    "ExecuteTime": {
     "end_time": "2017-11-15T17:57:23.626074Z",
     "start_time": "2017-11-15T17:57:23.621449Z"
    }
   },
   "outputs": [
    {
     "data": {
      "text/plain": [
       "DegreeView({1: 2, 2: 2, 3: 1, 4: 1})"
      ]
     },
     "execution_count": 22,
     "metadata": {},
     "output_type": "execute_result"
    }
   ],
   "source": [
    "G.degree()"
   ]
  },
  {
   "cell_type": "markdown",
   "metadata": {},
   "source": [
    "<a id='sec22'></a>"
   ]
  },
  {
   "cell_type": "markdown",
   "metadata": {},
   "source": [
    "##### Graph generators"
   ]
  },
  {
   "cell_type": "markdown",
   "metadata": {},
   "source": [
    "Given specific parameters, we can ask __NetworkX__ to produce some ___random graphs___ for us. One of the use of random graphs is to compare the graph models to real data to see what are the differences/similarities between the two.\n",
    "\n",
    "Reference:\n",
    "> The Structure and Function of Complex Networks. M. E. J. Newman. SIAM Review 2003 45:2, 167-256"
   ]
  },
  {
   "cell_type": "markdown",
   "metadata": {},
   "source": [
    "Let's say we will use ___karate club network__ as the real data."
   ]
  },
  {
   "cell_type": "code",
   "execution_count": 23,
   "metadata": {
    "ExecuteTime": {
     "end_time": "2017-11-15T17:58:59.781645Z",
     "start_time": "2017-11-15T17:58:59.776013Z"
    }
   },
   "outputs": [],
   "source": [
    "karate = nx.karate_club_graph()"
   ]
  },
  {
   "cell_type": "code",
   "execution_count": 24,
   "metadata": {
    "ExecuteTime": {
     "end_time": "2017-11-15T17:58:59.984709Z",
     "start_time": "2017-11-15T17:58:59.980234Z"
    }
   },
   "outputs": [
    {
     "name": "stdout",
     "output_type": "stream",
     "text": [
      "Name: Zachary's Karate Club\n",
      "Type: Graph\n",
      "Number of nodes: 34\n",
      "Number of edges: 78\n",
      "Average degree:   4.5882\n"
     ]
    }
   ],
   "source": [
    "print nx.info(karate)"
   ]
  },
  {
   "cell_type": "markdown",
   "metadata": {},
   "source": [
    "###### Erdos-Renyi random graph"
   ]
  },
  {
   "cell_type": "markdown",
   "metadata": {},
   "source": [
    "This is a classic model for random graphs: given the number of nodes and probability of each possible edge formation, the model adds edges independently, also giving a tree like structure. "
   ]
  },
  {
   "cell_type": "code",
   "execution_count": 25,
   "metadata": {
    "ExecuteTime": {
     "end_time": "2017-11-15T18:00:01.526734Z",
     "start_time": "2017-11-15T18:00:01.522969Z"
    }
   },
   "outputs": [],
   "source": [
    "n = karate.number_of_nodes() # number of nodes\n",
    "p = 2.*karate.number_of_edges()/(n*(n-1)) # probability of edge creation (This is essentially the DENSITY of a network)"
   ]
  },
  {
   "cell_type": "code",
   "execution_count": 26,
   "metadata": {
    "ExecuteTime": {
     "end_time": "2017-11-15T18:00:02.142599Z",
     "start_time": "2017-11-15T18:00:02.137642Z"
    }
   },
   "outputs": [
    {
     "data": {
      "text/plain": [
       "(34, 0.13903743315508021)"
      ]
     },
     "execution_count": 26,
     "metadata": {},
     "output_type": "execute_result"
    }
   ],
   "source": [
    "n, p"
   ]
  },
  {
   "cell_type": "code",
   "execution_count": 27,
   "metadata": {
    "ExecuteTime": {
     "end_time": "2017-11-15T18:01:02.556569Z",
     "start_time": "2017-11-15T18:01:02.551867Z"
    }
   },
   "outputs": [
    {
     "data": {
      "text/plain": [
       "0.13903743315508021"
      ]
     },
     "execution_count": 27,
     "metadata": {},
     "output_type": "execute_result"
    }
   ],
   "source": [
    "nx.density(karate)"
   ]
  },
  {
   "cell_type": "code",
   "execution_count": 30,
   "metadata": {
    "ExecuteTime": {
     "end_time": "2017-11-15T18:02:13.254828Z",
     "start_time": "2017-11-15T18:02:13.250362Z"
    }
   },
   "outputs": [],
   "source": [
    "erdos_rg = nx.erdos_renyi_graph(n, p, seed=np.random.randint(10))"
   ]
  },
  {
   "cell_type": "code",
   "execution_count": 31,
   "metadata": {
    "ExecuteTime": {
     "end_time": "2017-11-15T18:02:13.930021Z",
     "start_time": "2017-11-15T18:02:13.925532Z"
    }
   },
   "outputs": [
    {
     "name": "stdout",
     "output_type": "stream",
     "text": [
      "Name: \n",
      "Type: Graph\n",
      "Number of nodes: 34\n",
      "Number of edges: 97\n",
      "Average degree:   5.7059\n"
     ]
    }
   ],
   "source": [
    "print nx.info(erdos_rg)"
   ]
  },
  {
   "cell_type": "markdown",
   "metadata": {},
   "source": [
    "###### Configuration model"
   ]
  },
  {
   "cell_type": "markdown",
   "metadata": {},
   "source": [
    "This model helps to preserve a given degree distribution (i.e., the distribution of the number of connections each node has)"
   ]
  },
  {
   "cell_type": "code",
   "execution_count": 32,
   "metadata": {
    "ExecuteTime": {
     "end_time": "2017-11-15T18:04:53.064483Z",
     "start_time": "2017-11-15T18:04:53.058424Z"
    }
   },
   "outputs": [
    {
     "data": {
      "text/plain": [
       "array([16,  9, 10,  6,  3,  4,  4,  4,  5,  2,  3,  1,  2,  5,  2,  2,  2,\n",
       "        2,  2,  3,  2,  2,  2,  5,  3,  3,  2,  4,  3,  4,  4,  6, 12, 17])"
      ]
     },
     "execution_count": 32,
     "metadata": {},
     "output_type": "execute_result"
    }
   ],
   "source": [
    "degree_dist = np.asarray(dict(karate.degree()).values())\n",
    "degree_dist"
   ]
  },
  {
   "cell_type": "code",
   "execution_count": 33,
   "metadata": {
    "ExecuteTime": {
     "end_time": "2017-11-15T18:05:44.055226Z",
     "start_time": "2017-11-15T18:05:44.050324Z"
    }
   },
   "outputs": [],
   "source": [
    "conf_rg = nx.configuration_model(degree_dist, seed=np.random.randint(10))"
   ]
  },
  {
   "cell_type": "code",
   "execution_count": 34,
   "metadata": {
    "ExecuteTime": {
     "end_time": "2017-11-15T18:05:45.693514Z",
     "start_time": "2017-11-15T18:05:45.689406Z"
    }
   },
   "outputs": [
    {
     "name": "stdout",
     "output_type": "stream",
     "text": [
      "Name: \n",
      "Type: MultiGraph\n",
      "Number of nodes: 34\n",
      "Number of edges: 78\n",
      "Average degree:   4.5882\n"
     ]
    }
   ],
   "source": [
    "print nx.info(conf_rg)"
   ]
  },
  {
   "cell_type": "markdown",
   "metadata": {},
   "source": [
    "Note: a `MultiGraph` can contain different types of edges and self loops. We convert it back to `Graph`"
   ]
  },
  {
   "cell_type": "code",
   "execution_count": 35,
   "metadata": {
    "ExecuteTime": {
     "end_time": "2017-11-15T18:06:33.820742Z",
     "start_time": "2017-11-15T18:06:33.816474Z"
    }
   },
   "outputs": [],
   "source": [
    "conf_rg = nx.Graph(conf_rg)"
   ]
  },
  {
   "cell_type": "code",
   "execution_count": 36,
   "metadata": {
    "ExecuteTime": {
     "end_time": "2017-11-15T18:06:34.127148Z",
     "start_time": "2017-11-15T18:06:34.123282Z"
    }
   },
   "outputs": [
    {
     "name": "stdout",
     "output_type": "stream",
     "text": [
      "Name: \n",
      "Type: Graph\n",
      "Number of nodes: 34\n",
      "Number of edges: 68\n",
      "Average degree:   4.0000\n"
     ]
    }
   ],
   "source": [
    "print nx.info(conf_rg)"
   ]
  },
  {
   "cell_type": "markdown",
   "metadata": {},
   "source": [
    "###### More..."
   ]
  },
  {
   "cell_type": "markdown",
   "metadata": {},
   "source": [
    "As we mentioned above, we can leverage ___NetworkX___'s built-in datasets as toy data for practice or even in your research or even in your research or even in your research or even in your research. See <a href='https://networkx.github.io/documentation/stable/reference/generators.html' target='_blank'>here</a> for more details."
   ]
  },
  {
   "cell_type": "markdown",
   "metadata": {},
   "source": [
    "---"
   ]
  },
  {
   "cell_type": "markdown",
   "metadata": {},
   "source": [
    "#### Visualization"
   ]
  },
  {
   "cell_type": "markdown",
   "metadata": {},
   "source": [
    "Personally, I don't like ___NetworkX___'s visualization. I suggest using: (i) <a href='http://igraph.org/r/' target='_blank'>iGraph in R</a>; (i) <a href='https://graph-tool.skewed.de/static/doc/draw.html' target='_blank'>graph-tool</a>; (iii) <a href='https://gephi.org/' target='_blank'>Gephi</a>, which are also easy to use and actually prettier. That said, we can still use __NetworkX__'s `draw` function to have a first taste of what our data looks like. Let's also use ___karate___ data for an example."
   ]
  },
  {
   "cell_type": "markdown",
   "metadata": {},
   "source": [
    "Note that we will need ___Matplotlib___ for visualization using ___NetworkX___. If you have not installed it, run `pip install matplotlib` in your terminal. If you use ___Anaconda__, you are good to go."
   ]
  },
  {
   "cell_type": "code",
   "execution_count": 37,
   "metadata": {
    "ExecuteTime": {
     "end_time": "2017-11-15T18:08:16.322066Z",
     "start_time": "2017-11-15T18:08:16.318837Z"
    }
   },
   "outputs": [],
   "source": [
    "import matplotlib.pyplot as plt # import the dependent library"
   ]
  },
  {
   "cell_type": "markdown",
   "metadata": {},
   "source": [
    "The following line is a notebook magic command to draw figures ___inline___."
   ]
  },
  {
   "cell_type": "code",
   "execution_count": 38,
   "metadata": {
    "ExecuteTime": {
     "end_time": "2017-11-15T18:08:31.178276Z",
     "start_time": "2017-11-15T18:08:31.167442Z"
    }
   },
   "outputs": [],
   "source": [
    "%matplotlib inline"
   ]
  },
  {
   "cell_type": "code",
   "execution_count": 39,
   "metadata": {
    "ExecuteTime": {
     "end_time": "2017-11-15T18:08:33.447291Z",
     "start_time": "2017-11-15T18:08:33.216293Z"
    }
   },
   "outputs": [
    {
     "name": "stderr",
     "output_type": "stream",
     "text": [
      "/Users/zhiyzuo/.virtualenvs/Zuo-Py/lib/python2.7/site-packages/matplotlib/figure.py:1743: UserWarning: This figure includes Axes that are not compatible with tight_layout, so its results might be incorrect.\n",
      "  warnings.warn(\"This figure includes Axes that are not \"\n"
     ]
    },
    {
     "data": {
      "image/png": "[encoded data removed]",
      "text/plain": [
       "<matplotlib.figure.Figure at 0x12a1a62d0>"
      ]
     },
     "metadata": {},
     "output_type": "display_data"
    }
   ],
   "source": [
    "nx.draw(karate)"
   ]
  },
  {
   "cell_type": "markdown",
   "metadata": {},
   "source": [
    "Not bad, right? But! We want to make it better, start by adding node labels."
   ]
  },
  {
   "cell_type": "code",
   "execution_count": 40,
   "metadata": {
    "ExecuteTime": {
     "end_time": "2017-11-15T18:09:04.993878Z",
     "start_time": "2017-11-15T18:09:04.718061Z"
    }
   },
   "outputs": [
    {
     "data": {
      "image/png": "[encoded data removed]",
      "text/plain": [
       "<matplotlib.figure.Figure at 0x12a309150>"
      ]
     },
     "metadata": {},
     "output_type": "display_data"
    }
   ],
   "source": [
    "nx.draw(karate, with_labels=True)"
   ]
  },
  {
   "cell_type": "markdown",
   "metadata": {},
   "source": [
    "We can choose what layouts we want: consult <a href='https://networkx.github.io/documentation/stable/reference/drawing.html' target='_blank'>here</a> for more information."
   ]
  },
  {
   "cell_type": "code",
   "execution_count": 49,
   "metadata": {
    "ExecuteTime": {
     "end_time": "2017-11-12T23:55:09.662367Z",
     "start_time": "2017-11-12T23:55:07.864926Z"
    }
   },
   "outputs": [
    {
     "data": {
      "image/png": "[encoded data removed]",
      "text/plain": [
       "<matplotlib.figure.Figure at 0x125c00b50>"
      ]
     },
     "metadata": {},
     "output_type": "display_data"
    }
   ],
   "source": [
    "plt.figure(figsize=(10,10))\n",
    "# plt.subplot() will create \"sub-plots\" in one canvas\n",
    "# Now we are telling matplotlib to give us a 2x2 subplot canvas\n",
    "plt.subplot(221)  # first subplot\n",
    "nx.draw_spring(karate, with_labels=True)\n",
    "plt.subplot(222) # second subplot\n",
    "nx.draw_spectral(karate, with_labels=True)\n",
    "plt.subplot(223) # third subplot\n",
    "nx.draw_circular(karate, with_labels=True)\n",
    "plt.subplot(224) # last subplot\n",
    "nx.draw_kamada_kawai(karate, with_labels=True)"
   ]
  },
  {
   "cell_type": "markdown",
   "metadata": {},
   "source": [
    "---"
   ]
  },
  {
   "cell_type": "markdown",
   "metadata": {},
   "source": [
    "#### Network statistics"
   ]
  },
  {
   "cell_type": "markdown",
   "metadata": {},
   "source": [
    "There are many useful functions to calculate network stats for you."
   ]
  },
  {
   "cell_type": "markdown",
   "metadata": {},
   "source": [
    "##### Global level stats"
   ]
  },
  {
   "cell_type": "code",
   "execution_count": 41,
   "metadata": {
    "ExecuteTime": {
     "end_time": "2017-11-15T18:12:36.174144Z",
     "start_time": "2017-11-15T18:12:36.169980Z"
    }
   },
   "outputs": [
    {
     "name": "stdout",
     "output_type": "stream",
     "text": [
      "Density: 0.139037433155\n"
     ]
    }
   ],
   "source": [
    "print 'Density:', nx.density(karate)"
   ]
  },
  {
   "cell_type": "code",
   "execution_count": 51,
   "metadata": {
    "ExecuteTime": {
     "end_time": "2017-11-12T23:55:12.421519Z",
     "start_time": "2017-11-12T23:55:12.406764Z"
    }
   },
   "outputs": [
    {
     "name": "stdout",
     "output_type": "stream",
     "text": [
      "Avg. shortest path length: 2.40819964349\n"
     ]
    }
   ],
   "source": [
    "print 'Avg. shortest path length:', nx.average_shortest_path_length(karate)"
   ]
  },
  {
   "cell_type": "code",
   "execution_count": 52,
   "metadata": {
    "ExecuteTime": {
     "end_time": "2017-11-12T23:55:12.776283Z",
     "start_time": "2017-11-12T23:55:12.768278Z"
    }
   },
   "outputs": [
    {
     "name": "stdout",
     "output_type": "stream",
     "text": [
      "Avg. clustering coefficient: 0.570638478208\n"
     ]
    }
   ],
   "source": [
    "print 'Avg. clustering coefficient:', nx.average_clustering(karate)"
   ]
  },
  {
   "cell_type": "code",
   "execution_count": 53,
   "metadata": {
    "ExecuteTime": {
     "end_time": "2017-11-12T23:55:13.115387Z",
     "start_time": "2017-11-12T23:55:13.106209Z"
    }
   },
   "outputs": [
    {
     "name": "stdout",
     "output_type": "stream",
     "text": [
      "Assortativity -0.475613097685\n"
     ]
    }
   ],
   "source": [
    "print 'Assortativity', nx.degree_assortativity_coefficient(karate)"
   ]
  },
  {
   "cell_type": "markdown",
   "metadata": {},
   "source": [
    "Combining these with [Section 2.2](#sec22), we can play with some comparison between the synthesized and real network stats. A common routine is that we repeat the construction of random graphs over and over again to obtain the average values to decrease bias from the randomness."
   ]
  },
  {
   "cell_type": "markdown",
   "metadata": {},
   "source": [
    "Let's use `list` to save the stats:"
   ]
  },
  {
   "cell_type": "code",
   "execution_count": 42,
   "metadata": {
    "ExecuteTime": {
     "end_time": "2017-11-15T18:15:09.418407Z",
     "start_time": "2017-11-15T18:15:09.414840Z"
    }
   },
   "outputs": [],
   "source": [
    "erdos_assortativity_list = list()\n",
    "conf_assortativity_list = list()"
   ]
  },
  {
   "cell_type": "code",
   "execution_count": 43,
   "metadata": {
    "ExecuteTime": {
     "end_time": "2017-11-15T18:15:10.804212Z",
     "start_time": "2017-11-15T18:15:10.800408Z"
    }
   },
   "outputs": [],
   "source": [
    "n = karate.number_of_nodes() # number of nodes\n",
    "p = 2.*karate.number_of_edges()/(n*n-1) # probability of edge creation (This is essentially the DENSITY of a network)"
   ]
  },
  {
   "cell_type": "code",
   "execution_count": 44,
   "metadata": {
    "ExecuteTime": {
     "end_time": "2017-11-15T18:15:11.628192Z",
     "start_time": "2017-11-15T18:15:11.622693Z"
    }
   },
   "outputs": [
    {
     "data": {
      "text/plain": [
       "array([16,  9, 10,  6,  3,  4,  4,  4,  5,  2,  3,  1,  2,  5,  2,  2,  2,\n",
       "        2,  2,  3,  2,  2,  2,  5,  3,  3,  2,  4,  3,  4,  4,  6, 12, 17])"
      ]
     },
     "execution_count": 44,
     "metadata": {},
     "output_type": "execute_result"
    }
   ],
   "source": [
    "degree_dist = np.asarray(dict(karate.degree()).values())\n",
    "degree_dist"
   ]
  },
  {
   "cell_type": "code",
   "execution_count": 45,
   "metadata": {
    "ExecuteTime": {
     "end_time": "2017-11-15T18:15:45.494766Z",
     "start_time": "2017-11-15T18:15:44.898987Z"
    }
   },
   "outputs": [],
   "source": [
    "for i in range(100): # randomly sample random graphs 100 times\n",
    "    erdos_rg = nx.erdos_renyi_graph(n, p, seed=np.random.randint(10))\n",
    "    conf_rg = nx.Graph(nx.configuration_model(degree_dist, seed=np.random.randint(10))) # convert `MultiGraph` to `Graph`\n",
    "    # calculate assortativity\n",
    "    erdos_assortativity_list.append(nx.degree_assortativity_coefficient(erdos_rg))\n",
    "    conf_assortativity_list.append(nx.degree_assortativity_coefficient(conf_rg))"
   ]
  },
  {
   "cell_type": "code",
   "execution_count": 58,
   "metadata": {
    "ExecuteTime": {
     "end_time": "2017-11-12T23:55:16.914989Z",
     "start_time": "2017-11-12T23:55:16.904289Z"
    }
   },
   "outputs": [
    {
     "name": "stdout",
     "output_type": "stream",
     "text": [
      "Erdos-Renyi assortativity: -0.0351248983264 0.0675420721161\n",
      "Conf. model assortativity: -0.113929009133 0.07997084108\n",
      "Real network value: -0.475613097685\n"
     ]
    }
   ],
   "source": [
    "print 'Erdos-Renyi assortativity:', np.mean(erdos_assortativity_list), np.std(erdos_assortativity_list, ddof=1)\n",
    "print 'Conf. model assortativity:', np.mean(conf_assortativity_list), np.std(conf_assortativity_list, ddof=1)\n",
    "print 'Real network value:', nx.degree_assortativity_coefficient(karate)"
   ]
  },
  {
   "cell_type": "markdown",
   "metadata": {},
   "source": [
    "Now you see that there's a much higher tendency of the low degree nodes (mostly members) in ___karate club network___ to connect with high degree nodes (mostly leaders). We can then interpret that there may be a core-periphery or leader-member structure. (_We cannot be sure about this from this very simple approach thought!_)"
   ]
  },
  {
   "cell_type": "markdown",
   "metadata": {},
   "source": [
    "##### Local level"
   ]
  },
  {
   "cell_type": "markdown",
   "metadata": {},
   "source": [
    "We can look at micro-level network stats by giving some nodes of interest."
   ]
  },
  {
   "cell_type": "code",
   "execution_count": 46,
   "metadata": {
    "ExecuteTime": {
     "end_time": "2017-11-15T18:17:49.830290Z",
     "start_time": "2017-11-15T18:17:49.825449Z"
    }
   },
   "outputs": [
    {
     "data": {
      "text/plain": [
       "9"
      ]
     },
     "execution_count": 46,
     "metadata": {},
     "output_type": "execute_result"
    }
   ],
   "source": [
    "karate.degree(1) # degree of one node"
   ]
  },
  {
   "cell_type": "code",
   "execution_count": 47,
   "metadata": {
    "ExecuteTime": {
     "end_time": "2017-11-15T18:18:04.510094Z",
     "start_time": "2017-11-15T18:18:04.505169Z"
    }
   },
   "outputs": [
    {
     "data": {
      "text/plain": [
       "DegreeView({1: 9, 2: 10})"
      ]
     },
     "execution_count": 47,
     "metadata": {},
     "output_type": "execute_result"
    }
   ],
   "source": [
    "karate.degree([1,2]) # degree of a list of nodes"
   ]
  },
  {
   "cell_type": "code",
   "execution_count": 48,
   "metadata": {
    "ExecuteTime": {
     "end_time": "2017-11-15T18:18:17.700830Z",
     "start_time": "2017-11-15T18:18:17.695981Z"
    }
   },
   "outputs": [
    {
     "data": {
      "text/plain": [
       "[1, 2, 9]"
      ]
     },
     "execution_count": 48,
     "metadata": {},
     "output_type": "execute_result"
    }
   ],
   "source": [
    "nx.shortest_path(karate, 1, 9) # one of the shortest path from node 1 to node 9"
   ]
  },
  {
   "cell_type": "markdown",
   "metadata": {},
   "source": [
    "---"
   ]
  },
  {
   "cell_type": "markdown",
   "metadata": {},
   "source": [
    "#### Conclusion"
   ]
  },
  {
   "cell_type": "markdown",
   "metadata": {},
   "source": [
    "There are definitely a lot more to explore. In closing, I list a few topics that may be of high interest but cannot be covered due to time limit."
   ]
  },
  {
   "cell_type": "markdown",
   "metadata": {},
   "source": [
    "P.S.: <a href='https://icon.colorado.edu/#!/networks' target='_blank'>Index of Complex Networks</a> is a good place to find more network data."
   ]
  },
  {
   "cell_type": "markdown",
   "metadata": {},
   "source": [
    "---"
   ]
  },
  {
   "cell_type": "markdown",
   "metadata": {},
   "source": [
    "##### PageRank"
   ]
  },
  {
   "cell_type": "markdown",
   "metadata": {},
   "source": [
    "Ranking nodes based on various strategies is a common thing in measuring node importance. PageRank is one of the most successful one and has still been used in both the industry and academia. Usually, PageRank is applied in a __directed network__, where an edge has a direction. For example, webpage ___A___ has a link to webpage ___B___ but not the other way around. Therefore in the network of WWW, we only have $A\\rightarrow B$ but NOT $B\\rightarrow A$."
   ]
  },
  {
   "cell_type": "markdown",
   "metadata": {},
   "source": [
    "Reference: \n",
    "> Page, Lawrence and Brin, Sergey and Motwani, Rajeev and Winograd, Terry (1999) The PageRank Citation Ranking: Bringing Order to the Web. Technical Report. Stanford InfoLab."
   ]
  },
  {
   "cell_type": "markdown",
   "metadata": {},
   "source": [
    "###### Build network"
   ]
  },
  {
   "cell_type": "markdown",
   "metadata": {},
   "source": [
    "Network data from http://tuvalu.santafe.edu/~aaronc/datacode.htm"
   ]
  },
  {
   "cell_type": "code",
   "execution_count": 49,
   "metadata": {
    "ExecuteTime": {
     "end_time": "2017-11-15T18:20:13.405222Z",
     "start_time": "2017-11-15T18:20:13.387707Z"
    },
    "collapsed": true
   },
   "outputs": [
    {
     "data": {
      "text/plain": [
       "array([['1', '5'],\n",
       "       ['2', '5'],\n",
       "       ['3', '5'],\n",
       "       ['4', '5'],\n",
       "       ['4', '7'],\n",
       "       ['5', '1'],\n",
       "       ['5', '2'],\n",
       "       ['5', '3'],\n",
       "       ['5', '4'],\n",
       "       ['5', '6'],\n",
       "       ['5', '7'],\n",
       "       ['5', '8'],\n",
       "       ['5', '9'],\n",
       "       ['5', '10'],\n",
       "       ['5', '11'],\n",
       "       ['5', '32'],\n",
       "       ['6', '5'],\n",
       "       ['6', '10'],\n",
       "       ['7', '4'],\n",
       "       ['7', '5'],\n",
       "       ['7', '8'],\n",
       "       ['7', '10'],\n",
       "       ['8', '5'],\n",
       "       ['8', '7'],\n",
       "       ['8', '11'],\n",
       "       ['9', '5'],\n",
       "       ['9', '10'],\n",
       "       ['10', '5'],\n",
       "       ['10', '6'],\n",
       "       ['10', '7'],\n",
       "       ['10', '9'],\n",
       "       ['10', '13'],\n",
       "       ['10', '23'],\n",
       "       ['11', '5'],\n",
       "       ['11', '8'],\n",
       "       ['11', '12'],\n",
       "       ['12', '11'],\n",
       "       ['12', '22'],\n",
       "       ['13', '10'],\n",
       "       ['13', '14'],\n",
       "       ['13', '18'],\n",
       "       ['13', '22'],\n",
       "       ['13', '23'],\n",
       "       ['14', '13'],\n",
       "       ['14', '18'],\n",
       "       ['14', '19'],\n",
       "       ['15', '18'],\n",
       "       ['16', '18'],\n",
       "       ['17', '18'],\n",
       "       ['18', '13'],\n",
       "       ['18', '14'],\n",
       "       ['18', '15'],\n",
       "       ['18', '16'],\n",
       "       ['18', '17'],\n",
       "       ['18', '19'],\n",
       "       ['18', '20'],\n",
       "       ['18', '22'],\n",
       "       ['19', '14'],\n",
       "       ['19', '18'],\n",
       "       ['19', '20'],\n",
       "       ['20', '18'],\n",
       "       ['20', '19'],\n",
       "       ['20', '21'],\n",
       "       ['20', '22'],\n",
       "       ['21', '20'],\n",
       "       ['21', '22'],\n",
       "       ['22', '12'],\n",
       "       ['22', '13'],\n",
       "       ['22', '18'],\n",
       "       ['22', '20'],\n",
       "       ['22', '21'],\n",
       "       ['22', '24'],\n",
       "       ['22', '32'],\n",
       "       ['23', '10'],\n",
       "       ['23', '13'],\n",
       "       ['23', '24'],\n",
       "       ['23', '32'],\n",
       "       ['24', '22'],\n",
       "       ['24', '23'],\n",
       "       ['24', '25'],\n",
       "       ['24', '29'],\n",
       "       ['24', '30'],\n",
       "       ['24', '31'],\n",
       "       ['24', '32'],\n",
       "       ['24', '36'],\n",
       "       ['24', '37'],\n",
       "       ['24', '38'],\n",
       "       ['25', '24'],\n",
       "       ['25', '29'],\n",
       "       ['26', '32'],\n",
       "       ['27', '32'],\n",
       "       ['28', '32'],\n",
       "       ['28', '33'],\n",
       "       ['28', '38'],\n",
       "       ['28', '40'],\n",
       "       ['29', '24'],\n",
       "       ['29', '25'],\n",
       "       ['29', '32'],\n",
       "       ['29', '36'],\n",
       "       ['29', '38'],\n",
       "       ['30', '24'],\n",
       "       ['30', '32'],\n",
       "       ['30', '36'],\n",
       "       ['30', '38'],\n",
       "       ['31', '24'],\n",
       "       ['31', '32'],\n",
       "       ['31', '36'],\n",
       "       ['31', '37'],\n",
       "       ['31', '38'],\n",
       "       ['32', '5'],\n",
       "       ['32', '22'],\n",
       "       ['32', '23'],\n",
       "       ['32', '24'],\n",
       "       ['32', '26'],\n",
       "       ['32', '27'],\n",
       "       ['32', '28'],\n",
       "       ['32', '29'],\n",
       "       ['32', '30'],\n",
       "       ['32', '31'],\n",
       "       ['32', '33'],\n",
       "       ['32', '35'],\n",
       "       ['32', '36'],\n",
       "       ['32', '37'],\n",
       "       ['32', '38'],\n",
       "       ['32', '39'],\n",
       "       ['32', '42'],\n",
       "       ['32', '43'],\n",
       "       ['32', '44'],\n",
       "       ['32', '45'],\n",
       "       ['32', '51'],\n",
       "       ['32', '57'],\n",
       "       ['33', '28'],\n",
       "       ['33', '32'],\n",
       "       ['33', '38'],\n",
       "       ['33', '39'],\n",
       "       ['33', '40'],\n",
       "       ['33', '41'],\n",
       "       ['33', '42'],\n",
       "       ['33', '43'],\n",
       "       ['34', '35'],\n",
       "       ['35', '32'],\n",
       "       ['35', '34'],\n",
       "       ['35', '36'],\n",
       "       ['35', '38'],\n",
       "       ['36', '24'],\n",
       "       ['36', '29'],\n",
       "       ['36', '30'],\n",
       "       ['36', '31'],\n",
       "       ['36', '32'],\n",
       "       ['36', '35'],\n",
       "       ['36', '37'],\n",
       "       ['36', '38'],\n",
       "       ['37', '24'],\n",
       "       ['37', '31'],\n",
       "       ['37', '32'],\n",
       "       ['37', '36'],\n",
       "       ['37', '38'],\n",
       "       ['37', '44'],\n",
       "       ['37', '45'],\n",
       "       ['37', '50'],\n",
       "       ['37', '51'],\n",
       "       ['38', '24'],\n",
       "       ['38', '28'],\n",
       "       ['38', '29'],\n",
       "       ['38', '30'],\n",
       "       ['38', '31'],\n",
       "       ['38', '32'],\n",
       "       ['38', '33'],\n",
       "       ['38', '35'],\n",
       "       ['38', '36'],\n",
       "       ['38', '37'],\n",
       "       ['38', '39'],\n",
       "       ['38', '40'],\n",
       "       ['38', '42'],\n",
       "       ['38', '43'],\n",
       "       ['38', '44'],\n",
       "       ['38', '48'],\n",
       "       ['38', '50'],\n",
       "       ['38', '51'],\n",
       "       ['39', '32'],\n",
       "       ['39', '33'],\n",
       "       ['39', '38'],\n",
       "       ['39', '40'],\n",
       "       ['39', '42'],\n",
       "       ['39', '43'],\n",
       "       ['40', '28'],\n",
       "       ['40', '33'],\n",
       "       ['40', '38'],\n",
       "       ['40', '39'],\n",
       "       ['40', '42'],\n",
       "       ['40', '43'],\n",
       "       ['41', '33'],\n",
       "       ['41', '48'],\n",
       "       ['42', '32'],\n",
       "       ['42', '33'],\n",
       "       ['42', '38'],\n",
       "       ['42', '39'],\n",
       "       ['42', '40'],\n",
       "       ['42', '43'],\n",
       "       ['42', '46'],\n",
       "       ['42', '47'],\n",
       "       ['43', '32'],\n",
       "       ['43', '33'],\n",
       "       ['43', '38'],\n",
       "       ['43', '39'],\n",
       "       ['43', '40'],\n",
       "       ['43', '42'],\n",
       "       ['43', '49'],\n",
       "       ['43', '50'],\n",
       "       ['43', '51'],\n",
       "       ['44', '32'],\n",
       "       ['44', '37'],\n",
       "       ['44', '38'],\n",
       "       ['44', '51'],\n",
       "       ['44', '53'],\n",
       "       ['45', '32'],\n",
       "       ['45', '37'],\n",
       "       ['45', '48'],\n",
       "       ['45', '62'],\n",
       "       ['46', '42'],\n",
       "       ['46', '47'],\n",
       "       ['46', '62'],\n",
       "       ['47', '42'],\n",
       "       ['47', '46'],\n",
       "       ['47', '49'],\n",
       "       ['47', '62'],\n",
       "       ['48', '38'],\n",
       "       ['48', '41'],\n",
       "       ['48', '45'],\n",
       "       ['48', '49'],\n",
       "       ['48', '57'],\n",
       "       ['48', '61'],\n",
       "       ['48', '62'],\n",
       "       ['49', '43'],\n",
       "       ['49', '47'],\n",
       "       ['49', '48'],\n",
       "       ['49', '50'],\n",
       "       ['49', '51'],\n",
       "       ['50', '37'],\n",
       "       ['50', '38'],\n",
       "       ['50', '43'],\n",
       "       ['50', '49'],\n",
       "       ['50', '51'],\n",
       "       ['50', '55'],\n",
       "       ['50', '56'],\n",
       "       ['50', '57'],\n",
       "       ['51', '32'],\n",
       "       ['51', '37'],\n",
       "       ['51', '38'],\n",
       "       ['51', '43'],\n",
       "       ['51', '44'],\n",
       "       ['51', '49'],\n",
       "       ['51', '50'],\n",
       "       ['51', '52'],\n",
       "       ['51', '53'],\n",
       "       ['51', '54'],\n",
       "       ['51', '55'],\n",
       "       ['51', '56'],\n",
       "       ['51', '57'],\n",
       "       ['52', '51'],\n",
       "       ['52', '53'],\n",
       "       ['53', '44'],\n",
       "       ['53', '51'],\n",
       "       ['53', '52'],\n",
       "       ['53', '54'],\n",
       "       ['54', '51'],\n",
       "       ['54', '53'],\n",
       "       ['55', '50'],\n",
       "       ['55', '51'],\n",
       "       ['55', '56'],\n",
       "       ['55', '57'],\n",
       "       ['56', '50'],\n",
       "       ['56', '51'],\n",
       "       ['56', '55'],\n",
       "       ['56', '57'],\n",
       "       ['56', '58'],\n",
       "       ['56', '59'],\n",
       "       ['57', '32'],\n",
       "       ['57', '48'],\n",
       "       ['57', '50'],\n",
       "       ['57', '51'],\n",
       "       ['57', '55'],\n",
       "       ['57', '56'],\n",
       "       ['57', '58'],\n",
       "       ['57', '59'],\n",
       "       ['57', '60'],\n",
       "       ['57', '61'],\n",
       "       ['57', '62'],\n",
       "       ['58', '56'],\n",
       "       ['58', '57'],\n",
       "       ['58', '59'],\n",
       "       ['59', '56'],\n",
       "       ['59', '57'],\n",
       "       ['59', '58'],\n",
       "       ['60', '57'],\n",
       "       ['61', '48'],\n",
       "       ['61', '57'],\n",
       "       ['61', '62'],\n",
       "       ['62', '45'],\n",
       "       ['62', '46'],\n",
       "       ['62', '47'],\n",
       "       ['62', '48'],\n",
       "       ['62', '57'],\n",
       "       ['62', '61']],\n",
       "      dtype='|S2')"
      ]
     },
     "execution_count": 49,
     "metadata": {},
     "output_type": "execute_result"
    }
   ],
   "source": [
    "edge_list = np.loadtxt('sample-data/terrorists/terrorist.pairs', dtype=str)\n",
    "edge_list"
   ]
  },
  {
   "cell_type": "code",
   "execution_count": 63,
   "metadata": {
    "ExecuteTime": {
     "end_time": "2017-11-12T23:55:28.534115Z",
     "start_time": "2017-11-12T23:55:28.523182Z"
    },
    "collapsed": true
   },
   "outputs": [
    {
     "data": {
      "text/plain": [
       "{'1': 'Samir_Kashk',\n",
       " '10': '\\x03Tarek_Maaroufi',\n",
       " '11': 'Haydar_Abu_Doha',\n",
       " '12': 'Ahmed_Ressam',\n",
       " '13': 'Abu_Qatada',\n",
       " '14': 'Abu_Walid',\n",
       " '15': 'Jean-Marc_Grandvisir',\n",
       " '16': 'Abu_Zubeida',\n",
       " '17': 'Mizar_Trabelsi',\n",
       " '18': 'Djamal_Beghal',\n",
       " '19': 'Kamel_Daoudi',\n",
       " '2': 'Madjid_Sahoune',\n",
       " '20': 'Jerome_Courtaillier',\n",
       " '21': 'David_Courtaillier',\n",
       " '22': 'Zacarias_Moussaoui',\n",
       " '23': 'Imad_Eddin_Barakat_Yarkas',\n",
       " '24': 'Ramzi_Bin_al-Shibh',\n",
       " '25': 'Mohammed_Belfas',\n",
       " '26': 'Abdelghani_Mzoudi',\n",
       " '27': 'Ahmed_Khalil_Ibrahim_Samir_Al-Ani',\n",
       " '28': 'Mustafa_Ahmed_al-Hisawi',\n",
       " '29': 'Agus_Budiman',\n",
       " '3': 'Fahid_al_Shakri',\n",
       " '30': 'Mounir_El_Motassadeq',\n",
       " '31': 'Zakariya_Essabar',\n",
       " '32': 'Mohamed_Atta',\n",
       " '33': 'Fayez_Ahmed',\n",
       " '34': 'Mamduh_Mahmud_Salim',\n",
       " '35': 'Mamoun_Darkazanli',\n",
       " '36': 'Said_Bahaji',\n",
       " '37': 'Ziad_Jarrah',\n",
       " '38': 'Marwan_Al-Shehhi',\n",
       " '39': 'Wail_Alshehri',\n",
       " '4': 'Lased_Ben_Heni',\n",
       " '40': 'Waleed_Alshehri',\n",
       " '41': 'Mohand_Alshehri',\n",
       " '42': 'Satam_Suqami',\n",
       " '43': 'Abdul_Aziz_Al-Omari',\n",
       " '44': 'Lotfi_Raissi',\n",
       " '45': 'Ahmed_Al_Haznawi',\n",
       " '46': 'Raed_Hijazi',\n",
       " '47': 'Nabil_al-Marabh',\n",
       " '48': 'Hamza_Alghamdi',\n",
       " '49': 'Ahmed_Alghamdi',\n",
       " '5': 'Essid_Sami_Ben_Khemais',\n",
       " '50': 'Salem_Alhazmi',\n",
       " '51': 'Hani_Hanjour',\n",
       " '52': 'Bandar_Alhazmi',\n",
       " '53': 'Rayed_Mohammed_Abdullah',\n",
       " '54': 'Raisal_Al_Salmi',\n",
       " '55': 'Majed_Moqed',\n",
       " '56': 'Khalid_Al-Mihdhar',\n",
       " '57': 'Nawaf_Alhazmi',\n",
       " '58': 'Osama_Awadallah',\n",
       " '59': 'Abdussattar_Shaikh',\n",
       " '6': 'Seifallah_ben_Hassine',\n",
       " '60': 'Mohamed_Abdi',\n",
       " '61': 'Ahmed_Alnami',\n",
       " '62': 'Saeed_Alghamdi',\n",
       " '7': 'Mohamed_Bensakhria',\n",
       " '8': 'Mehdi_Khammoun',\n",
       " '9': 'Essoussi_Laaroussi'}"
      ]
     },
     "execution_count": 63,
     "metadata": {},
     "output_type": "execute_result"
    }
   ],
   "source": [
    "node_name_dict = dict(np.loadtxt('sample-data/terrorists/terrorist.names', dtype=str))\n",
    "node_name_dict"
   ]
  },
  {
   "cell_type": "markdown",
   "metadata": {},
   "source": [
    "Map names to name indices."
   ]
  },
  {
   "cell_type": "code",
   "execution_count": 64,
   "metadata": {
    "ExecuteTime": {
     "end_time": "2017-11-12T23:55:30.722596Z",
     "start_time": "2017-11-12T23:55:30.671003Z"
    },
    "collapsed": true
   },
   "outputs": [
    {
     "data": {
      "text/plain": [
       "[('Samir_Kashk', 'Essid_Sami_Ben_Khemais'),\n",
       " ('Madjid_Sahoune', 'Essid_Sami_Ben_Khemais'),\n",
       " ('Fahid_al_Shakri', 'Essid_Sami_Ben_Khemais'),\n",
       " ('Lased_Ben_Heni', 'Essid_Sami_Ben_Khemais'),\n",
       " ('Lased_Ben_Heni', 'Mohamed_Bensakhria'),\n",
       " ('Essid_Sami_Ben_Khemais', 'Samir_Kashk'),\n",
       " ('Essid_Sami_Ben_Khemais', 'Madjid_Sahoune'),\n",
       " ('Essid_Sami_Ben_Khemais', 'Fahid_al_Shakri'),\n",
       " ('Essid_Sami_Ben_Khemais', 'Lased_Ben_Heni'),\n",
       " ('Essid_Sami_Ben_Khemais', 'Seifallah_ben_Hassine'),\n",
       " ('Essid_Sami_Ben_Khemais', 'Mohamed_Bensakhria'),\n",
       " ('Essid_Sami_Ben_Khemais', 'Mehdi_Khammoun'),\n",
       " ('Essid_Sami_Ben_Khemais', 'Essoussi_Laaroussi'),\n",
       " ('Essid_Sami_Ben_Khemais', '\\x03Tarek_Maaroufi'),\n",
       " ('Essid_Sami_Ben_Khemais', 'Haydar_Abu_Doha'),\n",
       " ('Essid_Sami_Ben_Khemais', 'Mohamed_Atta'),\n",
       " ('Seifallah_ben_Hassine', 'Essid_Sami_Ben_Khemais'),\n",
       " ('Seifallah_ben_Hassine', '\\x03Tarek_Maaroufi'),\n",
       " ('Mohamed_Bensakhria', 'Lased_Ben_Heni'),\n",
       " ('Mohamed_Bensakhria', 'Essid_Sami_Ben_Khemais'),\n",
       " ('Mohamed_Bensakhria', 'Mehdi_Khammoun'),\n",
       " ('Mohamed_Bensakhria', '\\x03Tarek_Maaroufi'),\n",
       " ('Mehdi_Khammoun', 'Essid_Sami_Ben_Khemais'),\n",
       " ('Mehdi_Khammoun', 'Mohamed_Bensakhria'),\n",
       " ('Mehdi_Khammoun', 'Haydar_Abu_Doha'),\n",
       " ('Essoussi_Laaroussi', 'Essid_Sami_Ben_Khemais'),\n",
       " ('Essoussi_Laaroussi', '\\x03Tarek_Maaroufi'),\n",
       " ('\\x03Tarek_Maaroufi', 'Essid_Sami_Ben_Khemais'),\n",
       " ('\\x03Tarek_Maaroufi', 'Seifallah_ben_Hassine'),\n",
       " ('\\x03Tarek_Maaroufi', 'Mohamed_Bensakhria'),\n",
       " ('\\x03Tarek_Maaroufi', 'Essoussi_Laaroussi'),\n",
       " ('\\x03Tarek_Maaroufi', 'Abu_Qatada'),\n",
       " ('\\x03Tarek_Maaroufi', 'Imad_Eddin_Barakat_Yarkas'),\n",
       " ('Haydar_Abu_Doha', 'Essid_Sami_Ben_Khemais'),\n",
       " ('Haydar_Abu_Doha', 'Mehdi_Khammoun'),\n",
       " ('Haydar_Abu_Doha', 'Ahmed_Ressam'),\n",
       " ('Ahmed_Ressam', 'Haydar_Abu_Doha'),\n",
       " ('Ahmed_Ressam', 'Zacarias_Moussaoui'),\n",
       " ('Abu_Qatada', '\\x03Tarek_Maaroufi'),\n",
       " ('Abu_Qatada', 'Abu_Walid'),\n",
       " ('Abu_Qatada', 'Djamal_Beghal'),\n",
       " ('Abu_Qatada', 'Zacarias_Moussaoui'),\n",
       " ('Abu_Qatada', 'Imad_Eddin_Barakat_Yarkas'),\n",
       " ('Abu_Walid', 'Abu_Qatada'),\n",
       " ('Abu_Walid', 'Djamal_Beghal'),\n",
       " ('Abu_Walid', 'Kamel_Daoudi'),\n",
       " ('Jean-Marc_Grandvisir', 'Djamal_Beghal'),\n",
       " ('Abu_Zubeida', 'Djamal_Beghal'),\n",
       " ('Mizar_Trabelsi', 'Djamal_Beghal'),\n",
       " ('Djamal_Beghal', 'Abu_Qatada'),\n",
       " ('Djamal_Beghal', 'Abu_Walid'),\n",
       " ('Djamal_Beghal', 'Jean-Marc_Grandvisir'),\n",
       " ('Djamal_Beghal', 'Abu_Zubeida'),\n",
       " ('Djamal_Beghal', 'Mizar_Trabelsi'),\n",
       " ('Djamal_Beghal', 'Kamel_Daoudi'),\n",
       " ('Djamal_Beghal', 'Jerome_Courtaillier'),\n",
       " ('Djamal_Beghal', 'Zacarias_Moussaoui'),\n",
       " ('Kamel_Daoudi', 'Abu_Walid'),\n",
       " ('Kamel_Daoudi', 'Djamal_Beghal'),\n",
       " ('Kamel_Daoudi', 'Jerome_Courtaillier'),\n",
       " ('Jerome_Courtaillier', 'Djamal_Beghal'),\n",
       " ('Jerome_Courtaillier', 'Kamel_Daoudi'),\n",
       " ('Jerome_Courtaillier', 'David_Courtaillier'),\n",
       " ('Jerome_Courtaillier', 'Zacarias_Moussaoui'),\n",
       " ('David_Courtaillier', 'Jerome_Courtaillier'),\n",
       " ('David_Courtaillier', 'Zacarias_Moussaoui'),\n",
       " ('Zacarias_Moussaoui', 'Ahmed_Ressam'),\n",
       " ('Zacarias_Moussaoui', 'Abu_Qatada'),\n",
       " ('Zacarias_Moussaoui', 'Djamal_Beghal'),\n",
       " ('Zacarias_Moussaoui', 'Jerome_Courtaillier'),\n",
       " ('Zacarias_Moussaoui', 'David_Courtaillier'),\n",
       " ('Zacarias_Moussaoui', 'Ramzi_Bin_al-Shibh'),\n",
       " ('Zacarias_Moussaoui', 'Mohamed_Atta'),\n",
       " ('Imad_Eddin_Barakat_Yarkas', '\\x03Tarek_Maaroufi'),\n",
       " ('Imad_Eddin_Barakat_Yarkas', 'Abu_Qatada'),\n",
       " ('Imad_Eddin_Barakat_Yarkas', 'Ramzi_Bin_al-Shibh'),\n",
       " ('Imad_Eddin_Barakat_Yarkas', 'Mohamed_Atta'),\n",
       " ('Ramzi_Bin_al-Shibh', 'Zacarias_Moussaoui'),\n",
       " ('Ramzi_Bin_al-Shibh', 'Imad_Eddin_Barakat_Yarkas'),\n",
       " ('Ramzi_Bin_al-Shibh', 'Mohammed_Belfas'),\n",
       " ('Ramzi_Bin_al-Shibh', 'Agus_Budiman'),\n",
       " ('Ramzi_Bin_al-Shibh', 'Mounir_El_Motassadeq'),\n",
       " ('Ramzi_Bin_al-Shibh', 'Zakariya_Essabar'),\n",
       " ('Ramzi_Bin_al-Shibh', 'Mohamed_Atta'),\n",
       " ('Ramzi_Bin_al-Shibh', 'Said_Bahaji'),\n",
       " ('Ramzi_Bin_al-Shibh', 'Ziad_Jarrah'),\n",
       " ('Ramzi_Bin_al-Shibh', 'Marwan_Al-Shehhi'),\n",
       " ('Mohammed_Belfas', 'Ramzi_Bin_al-Shibh'),\n",
       " ('Mohammed_Belfas', 'Agus_Budiman'),\n",
       " ('Abdelghani_Mzoudi', 'Mohamed_Atta'),\n",
       " ('Ahmed_Khalil_Ibrahim_Samir_Al-Ani', 'Mohamed_Atta'),\n",
       " ('Mustafa_Ahmed_al-Hisawi', 'Mohamed_Atta'),\n",
       " ('Mustafa_Ahmed_al-Hisawi', 'Fayez_Ahmed'),\n",
       " ('Mustafa_Ahmed_al-Hisawi', 'Marwan_Al-Shehhi'),\n",
       " ('Mustafa_Ahmed_al-Hisawi', 'Waleed_Alshehri'),\n",
       " ('Agus_Budiman', 'Ramzi_Bin_al-Shibh'),\n",
       " ('Agus_Budiman', 'Mohammed_Belfas'),\n",
       " ('Agus_Budiman', 'Mohamed_Atta'),\n",
       " ('Agus_Budiman', 'Said_Bahaji'),\n",
       " ('Agus_Budiman', 'Marwan_Al-Shehhi'),\n",
       " ('Mounir_El_Motassadeq', 'Ramzi_Bin_al-Shibh'),\n",
       " ('Mounir_El_Motassadeq', 'Mohamed_Atta'),\n",
       " ('Mounir_El_Motassadeq', 'Said_Bahaji'),\n",
       " ('Mounir_El_Motassadeq', 'Marwan_Al-Shehhi'),\n",
       " ('Zakariya_Essabar', 'Ramzi_Bin_al-Shibh'),\n",
       " ('Zakariya_Essabar', 'Mohamed_Atta'),\n",
       " ('Zakariya_Essabar', 'Said_Bahaji'),\n",
       " ('Zakariya_Essabar', 'Ziad_Jarrah'),\n",
       " ('Zakariya_Essabar', 'Marwan_Al-Shehhi'),\n",
       " ('Mohamed_Atta', 'Essid_Sami_Ben_Khemais'),\n",
       " ('Mohamed_Atta', 'Zacarias_Moussaoui'),\n",
       " ('Mohamed_Atta', 'Imad_Eddin_Barakat_Yarkas'),\n",
       " ('Mohamed_Atta', 'Ramzi_Bin_al-Shibh'),\n",
       " ('Mohamed_Atta', 'Abdelghani_Mzoudi'),\n",
       " ('Mohamed_Atta', 'Ahmed_Khalil_Ibrahim_Samir_Al-Ani'),\n",
       " ('Mohamed_Atta', 'Mustafa_Ahmed_al-Hisawi'),\n",
       " ('Mohamed_Atta', 'Agus_Budiman'),\n",
       " ('Mohamed_Atta', 'Mounir_El_Motassadeq'),\n",
       " ('Mohamed_Atta', 'Zakariya_Essabar'),\n",
       " ('Mohamed_Atta', 'Fayez_Ahmed'),\n",
       " ('Mohamed_Atta', 'Mamoun_Darkazanli'),\n",
       " ('Mohamed_Atta', 'Said_Bahaji'),\n",
       " ('Mohamed_Atta', 'Ziad_Jarrah'),\n",
       " ('Mohamed_Atta', 'Marwan_Al-Shehhi'),\n",
       " ('Mohamed_Atta', 'Wail_Alshehri'),\n",
       " ('Mohamed_Atta', 'Satam_Suqami'),\n",
       " ('Mohamed_Atta', 'Abdul_Aziz_Al-Omari'),\n",
       " ('Mohamed_Atta', 'Lotfi_Raissi'),\n",
       " ('Mohamed_Atta', 'Ahmed_Al_Haznawi'),\n",
       " ('Mohamed_Atta', 'Hani_Hanjour'),\n",
       " ('Mohamed_Atta', 'Nawaf_Alhazmi'),\n",
       " ('Fayez_Ahmed', 'Mustafa_Ahmed_al-Hisawi'),\n",
       " ('Fayez_Ahmed', 'Mohamed_Atta'),\n",
       " ('Fayez_Ahmed', 'Marwan_Al-Shehhi'),\n",
       " ('Fayez_Ahmed', 'Wail_Alshehri'),\n",
       " ('Fayez_Ahmed', 'Waleed_Alshehri'),\n",
       " ('Fayez_Ahmed', 'Mohand_Alshehri'),\n",
       " ('Fayez_Ahmed', 'Satam_Suqami'),\n",
       " ('Fayez_Ahmed', 'Abdul_Aziz_Al-Omari'),\n",
       " ('Mamduh_Mahmud_Salim', 'Mamoun_Darkazanli'),\n",
       " ('Mamoun_Darkazanli', 'Mohamed_Atta'),\n",
       " ('Mamoun_Darkazanli', 'Mamduh_Mahmud_Salim'),\n",
       " ('Mamoun_Darkazanli', 'Said_Bahaji'),\n",
       " ('Mamoun_Darkazanli', 'Marwan_Al-Shehhi'),\n",
       " ('Said_Bahaji', 'Ramzi_Bin_al-Shibh'),\n",
       " ('Said_Bahaji', 'Agus_Budiman'),\n",
       " ('Said_Bahaji', 'Mounir_El_Motassadeq'),\n",
       " ('Said_Bahaji', 'Zakariya_Essabar'),\n",
       " ('Said_Bahaji', 'Mohamed_Atta'),\n",
       " ('Said_Bahaji', 'Mamoun_Darkazanli'),\n",
       " ('Said_Bahaji', 'Ziad_Jarrah'),\n",
       " ('Said_Bahaji', 'Marwan_Al-Shehhi'),\n",
       " ('Ziad_Jarrah', 'Ramzi_Bin_al-Shibh'),\n",
       " ('Ziad_Jarrah', 'Zakariya_Essabar'),\n",
       " ('Ziad_Jarrah', 'Mohamed_Atta'),\n",
       " ('Ziad_Jarrah', 'Said_Bahaji'),\n",
       " ('Ziad_Jarrah', 'Marwan_Al-Shehhi'),\n",
       " ('Ziad_Jarrah', 'Lotfi_Raissi'),\n",
       " ('Ziad_Jarrah', 'Ahmed_Al_Haznawi'),\n",
       " ('Ziad_Jarrah', 'Salem_Alhazmi'),\n",
       " ('Ziad_Jarrah', 'Hani_Hanjour'),\n",
       " ('Marwan_Al-Shehhi', 'Ramzi_Bin_al-Shibh'),\n",
       " ('Marwan_Al-Shehhi', 'Mustafa_Ahmed_al-Hisawi'),\n",
       " ('Marwan_Al-Shehhi', 'Agus_Budiman'),\n",
       " ('Marwan_Al-Shehhi', 'Mounir_El_Motassadeq'),\n",
       " ('Marwan_Al-Shehhi', 'Zakariya_Essabar'),\n",
       " ('Marwan_Al-Shehhi', 'Mohamed_Atta'),\n",
       " ('Marwan_Al-Shehhi', 'Fayez_Ahmed'),\n",
       " ('Marwan_Al-Shehhi', 'Mamoun_Darkazanli'),\n",
       " ('Marwan_Al-Shehhi', 'Said_Bahaji'),\n",
       " ('Marwan_Al-Shehhi', 'Ziad_Jarrah'),\n",
       " ('Marwan_Al-Shehhi', 'Wail_Alshehri'),\n",
       " ('Marwan_Al-Shehhi', 'Waleed_Alshehri'),\n",
       " ('Marwan_Al-Shehhi', 'Satam_Suqami'),\n",
       " ('Marwan_Al-Shehhi', 'Abdul_Aziz_Al-Omari'),\n",
       " ('Marwan_Al-Shehhi', 'Lotfi_Raissi'),\n",
       " ('Marwan_Al-Shehhi', 'Hamza_Alghamdi'),\n",
       " ('Marwan_Al-Shehhi', 'Salem_Alhazmi'),\n",
       " ('Marwan_Al-Shehhi', 'Hani_Hanjour'),\n",
       " ('Wail_Alshehri', 'Mohamed_Atta'),\n",
       " ('Wail_Alshehri', 'Fayez_Ahmed'),\n",
       " ('Wail_Alshehri', 'Marwan_Al-Shehhi'),\n",
       " ('Wail_Alshehri', 'Waleed_Alshehri'),\n",
       " ('Wail_Alshehri', 'Satam_Suqami'),\n",
       " ('Wail_Alshehri', 'Abdul_Aziz_Al-Omari'),\n",
       " ('Waleed_Alshehri', 'Mustafa_Ahmed_al-Hisawi'),\n",
       " ('Waleed_Alshehri', 'Fayez_Ahmed'),\n",
       " ('Waleed_Alshehri', 'Marwan_Al-Shehhi'),\n",
       " ('Waleed_Alshehri', 'Wail_Alshehri'),\n",
       " ('Waleed_Alshehri', 'Satam_Suqami'),\n",
       " ('Waleed_Alshehri', 'Abdul_Aziz_Al-Omari'),\n",
       " ('Mohand_Alshehri', 'Fayez_Ahmed'),\n",
       " ('Mohand_Alshehri', 'Hamza_Alghamdi'),\n",
       " ('Satam_Suqami', 'Mohamed_Atta'),\n",
       " ('Satam_Suqami', 'Fayez_Ahmed'),\n",
       " ('Satam_Suqami', 'Marwan_Al-Shehhi'),\n",
       " ('Satam_Suqami', 'Wail_Alshehri'),\n",
       " ('Satam_Suqami', 'Waleed_Alshehri'),\n",
       " ('Satam_Suqami', 'Abdul_Aziz_Al-Omari'),\n",
       " ('Satam_Suqami', 'Raed_Hijazi'),\n",
       " ('Satam_Suqami', 'Nabil_al-Marabh'),\n",
       " ('Abdul_Aziz_Al-Omari', 'Mohamed_Atta'),\n",
       " ('Abdul_Aziz_Al-Omari', 'Fayez_Ahmed'),\n",
       " ('Abdul_Aziz_Al-Omari', 'Marwan_Al-Shehhi'),\n",
       " ('Abdul_Aziz_Al-Omari', 'Wail_Alshehri'),\n",
       " ('Abdul_Aziz_Al-Omari', 'Waleed_Alshehri'),\n",
       " ('Abdul_Aziz_Al-Omari', 'Satam_Suqami'),\n",
       " ('Abdul_Aziz_Al-Omari', 'Ahmed_Alghamdi'),\n",
       " ('Abdul_Aziz_Al-Omari', 'Salem_Alhazmi'),\n",
       " ('Abdul_Aziz_Al-Omari', 'Hani_Hanjour'),\n",
       " ('Lotfi_Raissi', 'Mohamed_Atta'),\n",
       " ('Lotfi_Raissi', 'Ziad_Jarrah'),\n",
       " ('Lotfi_Raissi', 'Marwan_Al-Shehhi'),\n",
       " ('Lotfi_Raissi', 'Hani_Hanjour'),\n",
       " ('Lotfi_Raissi', 'Rayed_Mohammed_Abdullah'),\n",
       " ('Ahmed_Al_Haznawi', 'Mohamed_Atta'),\n",
       " ('Ahmed_Al_Haznawi', 'Ziad_Jarrah'),\n",
       " ('Ahmed_Al_Haznawi', 'Hamza_Alghamdi'),\n",
       " ('Ahmed_Al_Haznawi', 'Saeed_Alghamdi'),\n",
       " ('Raed_Hijazi', 'Satam_Suqami'),\n",
       " ('Raed_Hijazi', 'Nabil_al-Marabh'),\n",
       " ('Raed_Hijazi', 'Saeed_Alghamdi'),\n",
       " ('Nabil_al-Marabh', 'Satam_Suqami'),\n",
       " ('Nabil_al-Marabh', 'Raed_Hijazi'),\n",
       " ('Nabil_al-Marabh', 'Ahmed_Alghamdi'),\n",
       " ('Nabil_al-Marabh', 'Saeed_Alghamdi'),\n",
       " ('Hamza_Alghamdi', 'Marwan_Al-Shehhi'),\n",
       " ('Hamza_Alghamdi', 'Mohand_Alshehri'),\n",
       " ('Hamza_Alghamdi', 'Ahmed_Al_Haznawi'),\n",
       " ('Hamza_Alghamdi', 'Ahmed_Alghamdi'),\n",
       " ('Hamza_Alghamdi', 'Nawaf_Alhazmi'),\n",
       " ('Hamza_Alghamdi', 'Ahmed_Alnami'),\n",
       " ('Hamza_Alghamdi', 'Saeed_Alghamdi'),\n",
       " ('Ahmed_Alghamdi', 'Abdul_Aziz_Al-Omari'),\n",
       " ('Ahmed_Alghamdi', 'Nabil_al-Marabh'),\n",
       " ('Ahmed_Alghamdi', 'Hamza_Alghamdi'),\n",
       " ('Ahmed_Alghamdi', 'Salem_Alhazmi'),\n",
       " ('Ahmed_Alghamdi', 'Hani_Hanjour'),\n",
       " ('Salem_Alhazmi', 'Ziad_Jarrah'),\n",
       " ('Salem_Alhazmi', 'Marwan_Al-Shehhi'),\n",
       " ('Salem_Alhazmi', 'Abdul_Aziz_Al-Omari'),\n",
       " ('Salem_Alhazmi', 'Ahmed_Alghamdi'),\n",
       " ('Salem_Alhazmi', 'Hani_Hanjour'),\n",
       " ('Salem_Alhazmi', 'Majed_Moqed'),\n",
       " ('Salem_Alhazmi', 'Khalid_Al-Mihdhar'),\n",
       " ('Salem_Alhazmi', 'Nawaf_Alhazmi'),\n",
       " ('Hani_Hanjour', 'Mohamed_Atta'),\n",
       " ('Hani_Hanjour', 'Ziad_Jarrah'),\n",
       " ('Hani_Hanjour', 'Marwan_Al-Shehhi'),\n",
       " ('Hani_Hanjour', 'Abdul_Aziz_Al-Omari'),\n",
       " ('Hani_Hanjour', 'Lotfi_Raissi'),\n",
       " ('Hani_Hanjour', 'Ahmed_Alghamdi'),\n",
       " ('Hani_Hanjour', 'Salem_Alhazmi'),\n",
       " ('Hani_Hanjour', 'Bandar_Alhazmi'),\n",
       " ('Hani_Hanjour', 'Rayed_Mohammed_Abdullah'),\n",
       " ('Hani_Hanjour', 'Raisal_Al_Salmi'),\n",
       " ('Hani_Hanjour', 'Majed_Moqed'),\n",
       " ('Hani_Hanjour', 'Khalid_Al-Mihdhar'),\n",
       " ('Hani_Hanjour', 'Nawaf_Alhazmi'),\n",
       " ('Bandar_Alhazmi', 'Hani_Hanjour'),\n",
       " ('Bandar_Alhazmi', 'Rayed_Mohammed_Abdullah'),\n",
       " ('Rayed_Mohammed_Abdullah', 'Lotfi_Raissi'),\n",
       " ('Rayed_Mohammed_Abdullah', 'Hani_Hanjour'),\n",
       " ('Rayed_Mohammed_Abdullah', 'Bandar_Alhazmi'),\n",
       " ('Rayed_Mohammed_Abdullah', 'Raisal_Al_Salmi'),\n",
       " ('Raisal_Al_Salmi', 'Hani_Hanjour'),\n",
       " ('Raisal_Al_Salmi', 'Rayed_Mohammed_Abdullah'),\n",
       " ('Majed_Moqed', 'Salem_Alhazmi'),\n",
       " ('Majed_Moqed', 'Hani_Hanjour'),\n",
       " ('Majed_Moqed', 'Khalid_Al-Mihdhar'),\n",
       " ('Majed_Moqed', 'Nawaf_Alhazmi'),\n",
       " ('Khalid_Al-Mihdhar', 'Salem_Alhazmi'),\n",
       " ('Khalid_Al-Mihdhar', 'Hani_Hanjour'),\n",
       " ('Khalid_Al-Mihdhar', 'Majed_Moqed'),\n",
       " ('Khalid_Al-Mihdhar', 'Nawaf_Alhazmi'),\n",
       " ('Khalid_Al-Mihdhar', 'Osama_Awadallah'),\n",
       " ('Khalid_Al-Mihdhar', 'Abdussattar_Shaikh'),\n",
       " ('Nawaf_Alhazmi', 'Mohamed_Atta'),\n",
       " ('Nawaf_Alhazmi', 'Hamza_Alghamdi'),\n",
       " ('Nawaf_Alhazmi', 'Salem_Alhazmi'),\n",
       " ('Nawaf_Alhazmi', 'Hani_Hanjour'),\n",
       " ('Nawaf_Alhazmi', 'Majed_Moqed'),\n",
       " ('Nawaf_Alhazmi', 'Khalid_Al-Mihdhar'),\n",
       " ('Nawaf_Alhazmi', 'Osama_Awadallah'),\n",
       " ('Nawaf_Alhazmi', 'Abdussattar_Shaikh'),\n",
       " ('Nawaf_Alhazmi', 'Mohamed_Abdi'),\n",
       " ('Nawaf_Alhazmi', 'Ahmed_Alnami'),\n",
       " ('Nawaf_Alhazmi', 'Saeed_Alghamdi'),\n",
       " ('Osama_Awadallah', 'Khalid_Al-Mihdhar'),\n",
       " ('Osama_Awadallah', 'Nawaf_Alhazmi'),\n",
       " ('Osama_Awadallah', 'Abdussattar_Shaikh'),\n",
       " ('Abdussattar_Shaikh', 'Khalid_Al-Mihdhar'),\n",
       " ('Abdussattar_Shaikh', 'Nawaf_Alhazmi'),\n",
       " ('Abdussattar_Shaikh', 'Osama_Awadallah'),\n",
       " ('Mohamed_Abdi', 'Nawaf_Alhazmi'),\n",
       " ('Ahmed_Alnami', 'Hamza_Alghamdi'),\n",
       " ('Ahmed_Alnami', 'Nawaf_Alhazmi'),\n",
       " ('Ahmed_Alnami', 'Saeed_Alghamdi'),\n",
       " ('Saeed_Alghamdi', 'Ahmed_Al_Haznawi'),\n",
       " ('Saeed_Alghamdi', 'Raed_Hijazi'),\n",
       " ('Saeed_Alghamdi', 'Nabil_al-Marabh'),\n",
       " ('Saeed_Alghamdi', 'Hamza_Alghamdi'),\n",
       " ('Saeed_Alghamdi', 'Nawaf_Alhazmi'),\n",
       " ('Saeed_Alghamdi', 'Ahmed_Alnami')]"
      ]
     },
     "execution_count": 64,
     "metadata": {},
     "output_type": "execute_result"
    }
   ],
   "source": [
    "edge_list = [(node_name_dict[source], node_name_dict[target]) for source, target in edge_list]\n",
    "edge_list"
   ]
  },
  {
   "cell_type": "code",
   "execution_count": 65,
   "metadata": {
    "ExecuteTime": {
     "end_time": "2017-11-12T23:55:32.850363Z",
     "start_time": "2017-11-12T23:55:32.844466Z"
    }
   },
   "outputs": [
    {
     "name": "stdout",
     "output_type": "stream",
     "text": [
      "Name: terrorist network 911\n",
      "Type: DiGraph\n",
      "Number of nodes: 62\n",
      "Number of edges: 304\n",
      "Average in degree:   4.9032\n",
      "Average out degree:   4.9032\n"
     ]
    }
   ],
   "source": [
    "terrorist_net = nx.DiGraph()\n",
    "terrorist_net.name = 'terrorist network 911'\n",
    "terrorist_net.add_edges_from(edge_list)\n",
    "print nx.info(terrorist_net)"
   ]
  },
  {
   "cell_type": "code",
   "execution_count": 66,
   "metadata": {
    "ExecuteTime": {
     "end_time": "2017-11-12T23:55:35.111136Z",
     "start_time": "2017-11-12T23:55:35.101302Z"
    }
   },
   "outputs": [],
   "source": [
    "nx.write_gml(terrorist_net, 'sample-data/terrorists/terrorist.gml')"
   ]
  },
  {
   "cell_type": "markdown",
   "metadata": {},
   "source": [
    "###### Run PageRank"
   ]
  },
  {
   "cell_type": "code",
   "execution_count": 50,
   "metadata": {
    "ExecuteTime": {
     "end_time": "2017-11-15T18:20:17.933531Z",
     "start_time": "2017-11-15T18:20:17.892928Z"
    }
   },
   "outputs": [],
   "source": [
    "G = nx.read_gml('sample-data/terrorists/terrorist.gml')"
   ]
  },
  {
   "cell_type": "code",
   "execution_count": 51,
   "metadata": {
    "ExecuteTime": {
     "end_time": "2017-11-15T18:20:23.632439Z",
     "start_time": "2017-11-15T18:20:23.627939Z"
    }
   },
   "outputs": [
    {
     "name": "stdout",
     "output_type": "stream",
     "text": [
      "Name: terrorist network 911\n",
      "Type: DiGraph\n",
      "Number of nodes: 62\n",
      "Number of edges: 304\n",
      "Average in degree:   4.9032\n",
      "Average out degree:   4.9032\n"
     ]
    }
   ],
   "source": [
    "print nx.info(G)"
   ]
  },
  {
   "cell_type": "markdown",
   "metadata": {},
   "source": [
    "$alpha=0.85$ is a commonly used dampling factor."
   ]
  },
  {
   "cell_type": "code",
   "execution_count": 52,
   "metadata": {
    "ExecuteTime": {
     "end_time": "2017-11-15T18:21:34.937295Z",
     "start_time": "2017-11-15T18:21:34.897079Z"
    }
   },
   "outputs": [],
   "source": [
    "pr = nx.pagerank(G, alpha=0.85)"
   ]
  },
  {
   "cell_type": "markdown",
   "metadata": {
    "ExecuteTime": {
     "end_time": "2017-11-12T23:32:41.327959Z",
     "start_time": "2017-11-12T23:32:41.315825Z"
    }
   },
   "source": [
    "The returned value is a dictionary containing nodes and their __PageRank__ scores. Let's print them from high to low."
   ]
  },
  {
   "cell_type": "code",
   "execution_count": 53,
   "metadata": {
    "ExecuteTime": {
     "end_time": "2017-11-15T18:21:55.498365Z",
     "start_time": "2017-11-15T18:21:55.479842Z"
    }
   },
   "outputs": [
    {
     "data": {
      "text/html": [
       "<div>\n",
       "<style>\n",
       "    .dataframe thead tr:only-child th {\n",
       "        text-align: right;\n",
       "    }\n",
       "\n",
       "    .dataframe thead th {\n",
       "        text-align: left;\n",
       "    }\n",
       "\n",
       "    .dataframe tbody tr th {\n",
       "        vertical-align: top;\n",
       "    }\n",
       "</style>\n",
       "<table border=\"1\" class=\"dataframe\">\n",
       "  <thead>\n",
       "    <tr style=\"text-align: right;\">\n",
       "      <th></th>\n",
       "      <th>name</th>\n",
       "      <th>value</th>\n",
       "    </tr>\n",
       "  </thead>\n",
       "  <tbody>\n",
       "    <tr>\n",
       "      <th>0</th>\n",
       "      <td>Raisal_Al_Salmi</td>\n",
       "      <td>0.007638</td>\n",
       "    </tr>\n",
       "    <tr>\n",
       "      <th>1</th>\n",
       "      <td>Nabil_al-Marabh</td>\n",
       "      <td>0.012521</td>\n",
       "    </tr>\n",
       "    <tr>\n",
       "      <th>2</th>\n",
       "      <td>Mamoun_Darkazanli</td>\n",
       "      <td>0.013733</td>\n",
       "    </tr>\n",
       "    <tr>\n",
       "      <th>3</th>\n",
       "      <td>Rayed_Mohammed_Abdullah</td>\n",
       "      <td>0.013663</td>\n",
       "    </tr>\n",
       "    <tr>\n",
       "      <th>4</th>\n",
       "      <td>Abdul_Aziz_Al-Omari</td>\n",
       "      <td>0.022920</td>\n",
       "    </tr>\n",
       "  </tbody>\n",
       "</table>\n",
       "</div>"
      ],
      "text/plain": [
       "                      name     value\n",
       "0          Raisal_Al_Salmi  0.007638\n",
       "1          Nabil_al-Marabh  0.012521\n",
       "2        Mamoun_Darkazanli  0.013733\n",
       "3  Rayed_Mohammed_Abdullah  0.013663\n",
       "4      Abdul_Aziz_Al-Omari  0.022920"
      ]
     },
     "execution_count": 53,
     "metadata": {},
     "output_type": "execute_result"
    }
   ],
   "source": [
    "pr_df = pd.DataFrame([{'name': k, 'value': v} for k, v in pr.iteritems()])\n",
    "pr_df.head()"
   ]
  },
  {
   "cell_type": "code",
   "execution_count": 54,
   "metadata": {
    "ExecuteTime": {
     "end_time": "2017-11-15T18:22:02.484479Z",
     "start_time": "2017-11-15T18:22:02.444301Z"
    }
   },
   "outputs": [
    {
     "data": {
      "text/html": [
       "<div>\n",
       "<style>\n",
       "    .dataframe thead tr:only-child th {\n",
       "        text-align: right;\n",
       "    }\n",
       "\n",
       "    .dataframe thead th {\n",
       "        text-align: left;\n",
       "    }\n",
       "\n",
       "    .dataframe tbody tr th {\n",
       "        vertical-align: top;\n",
       "    }\n",
       "</style>\n",
       "<table border=\"1\" class=\"dataframe\">\n",
       "  <thead>\n",
       "    <tr style=\"text-align: right;\">\n",
       "      <th></th>\n",
       "      <th>name</th>\n",
       "      <th>value</th>\n",
       "    </tr>\n",
       "  </thead>\n",
       "  <tbody>\n",
       "    <tr>\n",
       "      <th>45</th>\n",
       "      <td>Mohamed_Atta</td>\n",
       "      <td>0.060755</td>\n",
       "    </tr>\n",
       "    <tr>\n",
       "      <th>50</th>\n",
       "      <td>Essid_Sami_Ben_Khemais</td>\n",
       "      <td>0.047815</td>\n",
       "    </tr>\n",
       "    <tr>\n",
       "      <th>7</th>\n",
       "      <td>Marwan_Al-Shehhi</td>\n",
       "      <td>0.044991</td>\n",
       "    </tr>\n",
       "    <tr>\n",
       "      <th>13</th>\n",
       "      <td>Djamal_Beghal</td>\n",
       "      <td>0.036374</td>\n",
       "    </tr>\n",
       "    <tr>\n",
       "      <th>27</th>\n",
       "      <td>Hani_Hanjour</td>\n",
       "      <td>0.035418</td>\n",
       "    </tr>\n",
       "    <tr>\n",
       "      <th>61</th>\n",
       "      <td>Nawaf_Alhazmi</td>\n",
       "      <td>0.032473</td>\n",
       "    </tr>\n",
       "    <tr>\n",
       "      <th>42</th>\n",
       "      <td>Ramzi_Bin_al-Shibh</td>\n",
       "      <td>0.027930</td>\n",
       "    </tr>\n",
       "    <tr>\n",
       "      <th>58</th>\n",
       "      <td>Zacarias_Moussaoui</td>\n",
       "      <td>0.026033</td>\n",
       "    </tr>\n",
       "    <tr>\n",
       "      <th>5</th>\n",
       "      <td>\u0003Tarek_Maaroufi</td>\n",
       "      <td>0.024306</td>\n",
       "    </tr>\n",
       "    <tr>\n",
       "      <th>21</th>\n",
       "      <td>Ziad_Jarrah</td>\n",
       "      <td>0.023493</td>\n",
       "    </tr>\n",
       "    <tr>\n",
       "      <th>4</th>\n",
       "      <td>Abdul_Aziz_Al-Omari</td>\n",
       "      <td>0.022920</td>\n",
       "    </tr>\n",
       "    <tr>\n",
       "      <th>9</th>\n",
       "      <td>Said_Bahaji</td>\n",
       "      <td>0.021698</td>\n",
       "    </tr>\n",
       "    <tr>\n",
       "      <th>24</th>\n",
       "      <td>Salem_Alhazmi</td>\n",
       "      <td>0.021293</td>\n",
       "    </tr>\n",
       "    <tr>\n",
       "      <th>54</th>\n",
       "      <td>Satam_Suqami</td>\n",
       "      <td>0.021286</td>\n",
       "    </tr>\n",
       "    <tr>\n",
       "      <th>35</th>\n",
       "      <td>Fayez_Ahmed</td>\n",
       "      <td>0.021283</td>\n",
       "    </tr>\n",
       "    <tr>\n",
       "      <th>14</th>\n",
       "      <td>Hamza_Alghamdi</td>\n",
       "      <td>0.020529</td>\n",
       "    </tr>\n",
       "    <tr>\n",
       "      <th>19</th>\n",
       "      <td>Abu_Qatada</td>\n",
       "      <td>0.019687</td>\n",
       "    </tr>\n",
       "    <tr>\n",
       "      <th>36</th>\n",
       "      <td>Saeed_Alghamdi</td>\n",
       "      <td>0.018298</td>\n",
       "    </tr>\n",
       "    <tr>\n",
       "      <th>32</th>\n",
       "      <td>Khalid_Al-Mihdhar</td>\n",
       "      <td>0.017978</td>\n",
       "    </tr>\n",
       "    <tr>\n",
       "      <th>10</th>\n",
       "      <td>Mohamed_Bensakhria</td>\n",
       "      <td>0.017686</td>\n",
       "    </tr>\n",
       "    <tr>\n",
       "      <th>33</th>\n",
       "      <td>Jerome_Courtaillier</td>\n",
       "      <td>0.017288</td>\n",
       "    </tr>\n",
       "    <tr>\n",
       "      <th>53</th>\n",
       "      <td>Waleed_Alshehri</td>\n",
       "      <td>0.015897</td>\n",
       "    </tr>\n",
       "    <tr>\n",
       "      <th>37</th>\n",
       "      <td>Wail_Alshehri</td>\n",
       "      <td>0.015830</td>\n",
       "    </tr>\n",
       "    <tr>\n",
       "      <th>57</th>\n",
       "      <td>Agus_Budiman</td>\n",
       "      <td>0.014667</td>\n",
       "    </tr>\n",
       "    <tr>\n",
       "      <th>25</th>\n",
       "      <td>Lotfi_Raissi</td>\n",
       "      <td>0.014329</td>\n",
       "    </tr>\n",
       "    <tr>\n",
       "      <th>41</th>\n",
       "      <td>Ahmed_Alghamdi</td>\n",
       "      <td>0.014315</td>\n",
       "    </tr>\n",
       "    <tr>\n",
       "      <th>6</th>\n",
       "      <td>Haydar_Abu_Doha</td>\n",
       "      <td>0.014118</td>\n",
       "    </tr>\n",
       "    <tr>\n",
       "      <th>28</th>\n",
       "      <td>Imad_Eddin_Barakat_Yarkas</td>\n",
       "      <td>0.013931</td>\n",
       "    </tr>\n",
       "    <tr>\n",
       "      <th>34</th>\n",
       "      <td>Mehdi_Khammoun</td>\n",
       "      <td>0.013873</td>\n",
       "    </tr>\n",
       "    <tr>\n",
       "      <th>31</th>\n",
       "      <td>Kamel_Daoudi</td>\n",
       "      <td>0.013795</td>\n",
       "    </tr>\n",
       "    <tr>\n",
       "      <th>...</th>\n",
       "      <td>...</td>\n",
       "      <td>...</td>\n",
       "    </tr>\n",
       "    <tr>\n",
       "      <th>3</th>\n",
       "      <td>Rayed_Mohammed_Abdullah</td>\n",
       "      <td>0.013663</td>\n",
       "    </tr>\n",
       "    <tr>\n",
       "      <th>16</th>\n",
       "      <td>Abu_Walid</td>\n",
       "      <td>0.013541</td>\n",
       "    </tr>\n",
       "    <tr>\n",
       "      <th>1</th>\n",
       "      <td>Nabil_al-Marabh</td>\n",
       "      <td>0.012521</td>\n",
       "    </tr>\n",
       "    <tr>\n",
       "      <th>29</th>\n",
       "      <td>Ahmed_Al_Haznawi</td>\n",
       "      <td>0.012070</td>\n",
       "    </tr>\n",
       "    <tr>\n",
       "      <th>52</th>\n",
       "      <td>Majed_Moqed</td>\n",
       "      <td>0.012053</td>\n",
       "    </tr>\n",
       "    <tr>\n",
       "      <th>40</th>\n",
       "      <td>Mounir_El_Motassadeq</td>\n",
       "      <td>0.011570</td>\n",
       "    </tr>\n",
       "    <tr>\n",
       "      <th>56</th>\n",
       "      <td>Mustafa_Ahmed_al-Hisawi</td>\n",
       "      <td>0.011404</td>\n",
       "    </tr>\n",
       "    <tr>\n",
       "      <th>30</th>\n",
       "      <td>Osama_Awadallah</td>\n",
       "      <td>0.010430</td>\n",
       "    </tr>\n",
       "    <tr>\n",
       "      <th>12</th>\n",
       "      <td>Abdussattar_Shaikh</td>\n",
       "      <td>0.010430</td>\n",
       "    </tr>\n",
       "    <tr>\n",
       "      <th>48</th>\n",
       "      <td>Ahmed_Alnami</td>\n",
       "      <td>0.010013</td>\n",
       "    </tr>\n",
       "    <tr>\n",
       "      <th>11</th>\n",
       "      <td>Raed_Hijazi</td>\n",
       "      <td>0.009933</td>\n",
       "    </tr>\n",
       "    <tr>\n",
       "      <th>47</th>\n",
       "      <td>Lased_Ben_Heni</td>\n",
       "      <td>0.009873</td>\n",
       "    </tr>\n",
       "    <tr>\n",
       "      <th>26</th>\n",
       "      <td>Ahmed_Ressam</td>\n",
       "      <td>0.009581</td>\n",
       "    </tr>\n",
       "    <tr>\n",
       "      <th>17</th>\n",
       "      <td>Essoussi_Laaroussi</td>\n",
       "      <td>0.009558</td>\n",
       "    </tr>\n",
       "    <tr>\n",
       "      <th>23</th>\n",
       "      <td>Seifallah_ben_Hassine</td>\n",
       "      <td>0.009558</td>\n",
       "    </tr>\n",
       "    <tr>\n",
       "      <th>18</th>\n",
       "      <td>David_Courtaillier</td>\n",
       "      <td>0.009255</td>\n",
       "    </tr>\n",
       "    <tr>\n",
       "      <th>8</th>\n",
       "      <td>Bandar_Alhazmi</td>\n",
       "      <td>0.007638</td>\n",
       "    </tr>\n",
       "    <tr>\n",
       "      <th>0</th>\n",
       "      <td>Raisal_Al_Salmi</td>\n",
       "      <td>0.007638</td>\n",
       "    </tr>\n",
       "    <tr>\n",
       "      <th>39</th>\n",
       "      <td>Mohammed_Belfas</td>\n",
       "      <td>0.007287</td>\n",
       "    </tr>\n",
       "    <tr>\n",
       "      <th>15</th>\n",
       "      <td>Mohand_Alshehri</td>\n",
       "      <td>0.007173</td>\n",
       "    </tr>\n",
       "    <tr>\n",
       "      <th>55</th>\n",
       "      <td>Mizar_Trabelsi</td>\n",
       "      <td>0.006284</td>\n",
       "    </tr>\n",
       "    <tr>\n",
       "      <th>60</th>\n",
       "      <td>Jean-Marc_Grandvisir</td>\n",
       "      <td>0.006284</td>\n",
       "    </tr>\n",
       "    <tr>\n",
       "      <th>46</th>\n",
       "      <td>Abu_Zubeida</td>\n",
       "      <td>0.006284</td>\n",
       "    </tr>\n",
       "    <tr>\n",
       "      <th>44</th>\n",
       "      <td>Fahid_al_Shakri</td>\n",
       "      <td>0.006114</td>\n",
       "    </tr>\n",
       "    <tr>\n",
       "      <th>43</th>\n",
       "      <td>Madjid_Sahoune</td>\n",
       "      <td>0.006114</td>\n",
       "    </tr>\n",
       "    <tr>\n",
       "      <th>22</th>\n",
       "      <td>Samir_Kashk</td>\n",
       "      <td>0.006114</td>\n",
       "    </tr>\n",
       "    <tr>\n",
       "      <th>51</th>\n",
       "      <td>Mamduh_Mahmud_Salim</td>\n",
       "      <td>0.005338</td>\n",
       "    </tr>\n",
       "    <tr>\n",
       "      <th>38</th>\n",
       "      <td>Mohamed_Abdi</td>\n",
       "      <td>0.004929</td>\n",
       "    </tr>\n",
       "    <tr>\n",
       "      <th>49</th>\n",
       "      <td>Ahmed_Khalil_Ibrahim_Samir_Al-Ani</td>\n",
       "      <td>0.004767</td>\n",
       "    </tr>\n",
       "    <tr>\n",
       "      <th>20</th>\n",
       "      <td>Abdelghani_Mzoudi</td>\n",
       "      <td>0.004767</td>\n",
       "    </tr>\n",
       "  </tbody>\n",
       "</table>\n",
       "<p>62 rows × 2 columns</p>\n",
       "</div>"
      ],
      "text/plain": [
       "                                 name     value\n",
       "45                       Mohamed_Atta  0.060755\n",
       "50             Essid_Sami_Ben_Khemais  0.047815\n",
       "7                    Marwan_Al-Shehhi  0.044991\n",
       "13                      Djamal_Beghal  0.036374\n",
       "27                       Hani_Hanjour  0.035418\n",
       "61                      Nawaf_Alhazmi  0.032473\n",
       "42                 Ramzi_Bin_al-Shibh  0.027930\n",
       "58                 Zacarias_Moussaoui  0.026033\n",
       "5                     \u0003Tarek_Maaroufi  0.024306\n",
       "21                        Ziad_Jarrah  0.023493\n",
       "4                 Abdul_Aziz_Al-Omari  0.022920\n",
       "9                         Said_Bahaji  0.021698\n",
       "24                      Salem_Alhazmi  0.021293\n",
       "54                       Satam_Suqami  0.021286\n",
       "35                        Fayez_Ahmed  0.021283\n",
       "14                     Hamza_Alghamdi  0.020529\n",
       "19                         Abu_Qatada  0.019687\n",
       "36                     Saeed_Alghamdi  0.018298\n",
       "32                  Khalid_Al-Mihdhar  0.017978\n",
       "10                 Mohamed_Bensakhria  0.017686\n",
       "33                Jerome_Courtaillier  0.017288\n",
       "53                    Waleed_Alshehri  0.015897\n",
       "37                      Wail_Alshehri  0.015830\n",
       "57                       Agus_Budiman  0.014667\n",
       "25                       Lotfi_Raissi  0.014329\n",
       "41                     Ahmed_Alghamdi  0.014315\n",
       "6                     Haydar_Abu_Doha  0.014118\n",
       "28          Imad_Eddin_Barakat_Yarkas  0.013931\n",
       "34                     Mehdi_Khammoun  0.013873\n",
       "31                       Kamel_Daoudi  0.013795\n",
       "..                                ...       ...\n",
       "3             Rayed_Mohammed_Abdullah  0.013663\n",
       "16                          Abu_Walid  0.013541\n",
       "1                     Nabil_al-Marabh  0.012521\n",
       "29                   Ahmed_Al_Haznawi  0.012070\n",
       "52                        Majed_Moqed  0.012053\n",
       "40               Mounir_El_Motassadeq  0.011570\n",
       "56            Mustafa_Ahmed_al-Hisawi  0.011404\n",
       "30                    Osama_Awadallah  0.010430\n",
       "12                 Abdussattar_Shaikh  0.010430\n",
       "48                       Ahmed_Alnami  0.010013\n",
       "11                        Raed_Hijazi  0.009933\n",
       "47                     Lased_Ben_Heni  0.009873\n",
       "26                       Ahmed_Ressam  0.009581\n",
       "17                 Essoussi_Laaroussi  0.009558\n",
       "23              Seifallah_ben_Hassine  0.009558\n",
       "18                 David_Courtaillier  0.009255\n",
       "8                      Bandar_Alhazmi  0.007638\n",
       "0                     Raisal_Al_Salmi  0.007638\n",
       "39                    Mohammed_Belfas  0.007287\n",
       "15                    Mohand_Alshehri  0.007173\n",
       "55                     Mizar_Trabelsi  0.006284\n",
       "60               Jean-Marc_Grandvisir  0.006284\n",
       "46                        Abu_Zubeida  0.006284\n",
       "44                    Fahid_al_Shakri  0.006114\n",
       "43                     Madjid_Sahoune  0.006114\n",
       "22                        Samir_Kashk  0.006114\n",
       "51                Mamduh_Mahmud_Salim  0.005338\n",
       "38                       Mohamed_Abdi  0.004929\n",
       "49  Ahmed_Khalil_Ibrahim_Samir_Al-Ani  0.004767\n",
       "20                  Abdelghani_Mzoudi  0.004767\n",
       "\n",
       "[62 rows x 2 columns]"
      ]
     },
     "execution_count": 54,
     "metadata": {},
     "output_type": "execute_result"
    }
   ],
   "source": [
    "pr_df.sort_values('value', ascending=False)"
   ]
  },
  {
   "cell_type": "markdown",
   "metadata": {},
   "source": [
    "##### Community detection"
   ]
  },
  {
   "cell_type": "markdown",
   "metadata": {},
   "source": [
    "Naturally, we want to know if there are groups/clusters of nodes in a network. Well seperated networks may indicate some emergent patterns within the nodes."
   ]
  },
  {
   "cell_type": "markdown",
   "metadata": {},
   "source": [
    "For simplicity, we will again use ___karate___"
   ]
  },
  {
   "cell_type": "code",
   "execution_count": 72,
   "metadata": {
    "ExecuteTime": {
     "end_time": "2017-11-12T23:55:44.754538Z",
     "start_time": "2017-11-12T23:55:44.749328Z"
    }
   },
   "outputs": [],
   "source": [
    "karate = nx.karate_club_graph()"
   ]
  },
  {
   "cell_type": "markdown",
   "metadata": {},
   "source": [
    "There are several algorithms available in ___NetworkX___. Let us try the famous <a href=''https://networkx.github.io/documentation/stable/reference/algorithms/generated/networkx.algorithms.community.centrality.girvan_newman.html#networkx.algorithms.community.centrality.girvan_newman target='_blank'>Girvan–Newman method</a>.\n",
    "\n",
    "Reference:\n",
    "> Girvan M. and Newman M. E. J., Community structure in social and biological networks, Proc. Natl. Acad. Sci. USA 99, 7821–7826 (2002)"
   ]
  },
  {
   "cell_type": "code",
   "execution_count": 73,
   "metadata": {
    "ExecuteTime": {
     "end_time": "2017-11-12T23:55:46.442042Z",
     "start_time": "2017-11-12T23:55:46.084628Z"
    }
   },
   "outputs": [],
   "source": [
    "comm = list(nx.community.girvan_newman(karate))"
   ]
  },
  {
   "cell_type": "markdown",
   "metadata": {},
   "source": [
    "It is a hierarchical partition. Let's get the 1st partition."
   ]
  },
  {
   "cell_type": "code",
   "execution_count": 74,
   "metadata": {
    "ExecuteTime": {
     "end_time": "2017-11-12T23:55:46.860789Z",
     "start_time": "2017-11-12T23:55:46.851306Z"
    }
   },
   "outputs": [
    {
     "data": {
      "text/plain": [
       "({0, 1, 3, 4, 5, 6, 7, 10, 11, 12, 13, 16, 17, 19, 21},\n",
       " {2, 8, 9, 14, 15, 18, 20, 22, 23, 24, 25, 26, 27, 28, 29, 30, 31, 32, 33})"
      ]
     },
     "execution_count": 74,
     "metadata": {},
     "output_type": "execute_result"
    }
   ],
   "source": [
    "comm[0]"
   ]
  },
  {
   "cell_type": "markdown",
   "metadata": {
    "ExecuteTime": {
     "end_time": "2017-11-12T23:48:52.727197Z",
     "start_time": "2017-11-12T23:48:52.721984Z"
    }
   },
   "source": [
    "We can now update our visualization by adding colors based on community partition. "
   ]
  },
  {
   "cell_type": "code",
   "execution_count": 75,
   "metadata": {
    "ExecuteTime": {
     "end_time": "2017-11-12T23:55:48.213293Z",
     "start_time": "2017-11-12T23:55:48.197083Z"
    }
   },
   "outputs": [],
   "source": [
    "layout = nx.fruchterman_reingold_layout(karate) # positions for all nodes"
   ]
  },
  {
   "cell_type": "markdown",
   "metadata": {},
   "source": [
    "We can realize this by plotting nodes seperately."
   ]
  },
  {
   "cell_type": "code",
   "execution_count": 76,
   "metadata": {
    "ExecuteTime": {
     "end_time": "2017-11-12T23:55:49.263225Z",
     "start_time": "2017-11-12T23:55:48.999287Z"
    }
   },
   "outputs": [
    {
     "data": {
      "text/plain": [
       "<matplotlib.collections.LineCollection at 0x125d55e90>"
      ]
     },
     "execution_count": 76,
     "metadata": {},
     "output_type": "execute_result"
    },
    {
     "data": {
      "image/png": "[encoded data removed]",
      "text/plain": [
       "<matplotlib.figure.Figure at 0x125b6a150>"
      ]
     },
     "metadata": {},
     "output_type": "display_data"
    }
   ],
   "source": [
    "# 1st community\n",
    "nx.draw_networkx_nodes(karate, layout, nodelist=comm[0][0],\n",
    "                       node_color='r')\n",
    "# 2nd community\n",
    "nx.draw_networkx_nodes(karate, layout, nodelist=comm[0][1],\n",
    "                       node_color='b')\n",
    "# draw edges\n",
    "nx.draw_networkx_edges(karate, layout, width=1.0, alpha=0.5)"
   ]
  }
 ],
 "metadata": {
  "kernelspec": {
   "display_name": "Python 3",
   "language": "python",
   "name": "python3"
  },
  "language_info": {
   "codemirror_mode": {
    "name": "ipython",
    "version": 3
   },
   "file_extension": ".py",
   "mimetype": "text/x-python",
   "name": "python",
   "nbconvert_exporter": "python",
   "pygments_lexer": "ipython3",
   "version": "3.6.4"
  },
  "toc": {
   "nav_menu": {},
   "number_sections": true,
   "sideBar": true,
   "skip_h1_title": false,
   "toc_cell": false,
   "toc_position": {
    "height": "813px",
    "left": "0px",
    "right": "1468px",
    "top": "135px",
    "width": "212px"
   },
   "toc_section_display": "block",
   "toc_window_display": true
  }
 },
 "nbformat": 4,
 "nbformat_minor": 2
}
